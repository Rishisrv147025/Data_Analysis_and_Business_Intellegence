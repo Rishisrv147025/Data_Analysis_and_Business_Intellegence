{
 "cells": [
  {
   "cell_type": "markdown",
   "metadata": {
    "id": "arF2nXp6FTvM"
   },
   "source": [
    "# **Credit Card Fraud Detection using Deep Learning**"
   ]
  },
  {
   "cell_type": "markdown",
   "metadata": {
    "id": "KZy6vWTw-7IA"
   },
   "source": [
    "The aim of this project is to feed credit card transaction data, which has been marked for fraud, into various models and evaluate which model performs best in detecting fraudulent transactions.\""
   ]
  },
  {
   "cell_type": "code",
   "execution_count": 1,
   "metadata": {
    "id": "tCmM0OM0qdxJ"
   },
   "outputs": [],
   "source": [
    "import numpy as np\n",
    "import pandas as pd\n",
    "import matplotlib.pyplot as plt\n",
    "import seaborn as sns"
   ]
  },
  {
   "cell_type": "code",
   "execution_count": 2,
   "metadata": {
    "id": "dUY0Qvq5qrlf"
   },
   "outputs": [],
   "source": [
    "dataset=pd.read_csv('credit_card_fraud.csv')"
   ]
  },
  {
   "cell_type": "code",
   "execution_count": 3,
   "metadata": {
    "colab": {
     "base_uri": "https://localhost:8080/",
     "height": 808
    },
    "id": "HY-faxA-q_Wg",
    "outputId": "329c1f4b-3016-4057-ca29-d65443afaa92"
   },
   "outputs": [
    {
     "data": {
      "text/html": [
       "<div>\n",
       "<style scoped>\n",
       "    .dataframe tbody tr th:only-of-type {\n",
       "        vertical-align: middle;\n",
       "    }\n",
       "\n",
       "    .dataframe tbody tr th {\n",
       "        vertical-align: top;\n",
       "    }\n",
       "\n",
       "    .dataframe thead th {\n",
       "        text-align: right;\n",
       "    }\n",
       "</style>\n",
       "<table border=\"1\" class=\"dataframe\">\n",
       "  <thead>\n",
       "    <tr style=\"text-align: right;\">\n",
       "      <th></th>\n",
       "      <th>trans_date_trans_time</th>\n",
       "      <th>merchant</th>\n",
       "      <th>category</th>\n",
       "      <th>amt</th>\n",
       "      <th>city</th>\n",
       "      <th>state</th>\n",
       "      <th>lat</th>\n",
       "      <th>long</th>\n",
       "      <th>city_pop</th>\n",
       "      <th>job</th>\n",
       "      <th>dob</th>\n",
       "      <th>trans_num</th>\n",
       "      <th>merch_lat</th>\n",
       "      <th>merch_long</th>\n",
       "      <th>is_fraud</th>\n",
       "    </tr>\n",
       "  </thead>\n",
       "  <tbody>\n",
       "    <tr>\n",
       "      <th>0</th>\n",
       "      <td>2019-01-01 00:00:44</td>\n",
       "      <td>\"Heller, Gutmann and Zieme\"</td>\n",
       "      <td>grocery_pos</td>\n",
       "      <td>107.23</td>\n",
       "      <td>Orient</td>\n",
       "      <td>WA</td>\n",
       "      <td>48.8878</td>\n",
       "      <td>-118.2105</td>\n",
       "      <td>149</td>\n",
       "      <td>Special educational needs teacher</td>\n",
       "      <td>1978-06-21</td>\n",
       "      <td>1f76529f8574734946361c461b024d99</td>\n",
       "      <td>49.159047</td>\n",
       "      <td>-118.186462</td>\n",
       "      <td>0</td>\n",
       "    </tr>\n",
       "    <tr>\n",
       "      <th>1</th>\n",
       "      <td>2019-01-01 00:00:51</td>\n",
       "      <td>Lind-Buckridge</td>\n",
       "      <td>entertainment</td>\n",
       "      <td>220.11</td>\n",
       "      <td>Malad City</td>\n",
       "      <td>ID</td>\n",
       "      <td>42.1808</td>\n",
       "      <td>-112.2620</td>\n",
       "      <td>4154</td>\n",
       "      <td>Nature conservation officer</td>\n",
       "      <td>1962-01-19</td>\n",
       "      <td>a1a22d70485983eac12b5b88dad1cf95</td>\n",
       "      <td>43.150704</td>\n",
       "      <td>-112.154481</td>\n",
       "      <td>0</td>\n",
       "    </tr>\n",
       "    <tr>\n",
       "      <th>2</th>\n",
       "      <td>2019-01-01 00:07:27</td>\n",
       "      <td>Kiehn Inc</td>\n",
       "      <td>grocery_pos</td>\n",
       "      <td>96.29</td>\n",
       "      <td>Grenada</td>\n",
       "      <td>CA</td>\n",
       "      <td>41.6125</td>\n",
       "      <td>-122.5258</td>\n",
       "      <td>589</td>\n",
       "      <td>Systems analyst</td>\n",
       "      <td>1945-12-21</td>\n",
       "      <td>413636e759663f264aae1819a4d4f231</td>\n",
       "      <td>41.657520</td>\n",
       "      <td>-122.230347</td>\n",
       "      <td>0</td>\n",
       "    </tr>\n",
       "    <tr>\n",
       "      <th>3</th>\n",
       "      <td>2019-01-01 00:09:03</td>\n",
       "      <td>Beier-Hyatt</td>\n",
       "      <td>shopping_pos</td>\n",
       "      <td>7.77</td>\n",
       "      <td>High Rolls Mountain Park</td>\n",
       "      <td>NM</td>\n",
       "      <td>32.9396</td>\n",
       "      <td>-105.8189</td>\n",
       "      <td>899</td>\n",
       "      <td>Naval architect</td>\n",
       "      <td>1967-08-30</td>\n",
       "      <td>8a6293af5ed278dea14448ded2685fea</td>\n",
       "      <td>32.863258</td>\n",
       "      <td>-106.520205</td>\n",
       "      <td>0</td>\n",
       "    </tr>\n",
       "    <tr>\n",
       "      <th>4</th>\n",
       "      <td>2019-01-01 00:21:32</td>\n",
       "      <td>Bruen-Yost</td>\n",
       "      <td>misc_pos</td>\n",
       "      <td>6.85</td>\n",
       "      <td>Freedom</td>\n",
       "      <td>WY</td>\n",
       "      <td>43.0172</td>\n",
       "      <td>-111.0292</td>\n",
       "      <td>471</td>\n",
       "      <td>\"Education officer, museum\"</td>\n",
       "      <td>1967-08-02</td>\n",
       "      <td>f3c43d336e92a44fc2fb67058d5949e3</td>\n",
       "      <td>43.753735</td>\n",
       "      <td>-111.454923</td>\n",
       "      <td>0</td>\n",
       "    </tr>\n",
       "    <tr>\n",
       "      <th>...</th>\n",
       "      <td>...</td>\n",
       "      <td>...</td>\n",
       "      <td>...</td>\n",
       "      <td>...</td>\n",
       "      <td>...</td>\n",
       "      <td>...</td>\n",
       "      <td>...</td>\n",
       "      <td>...</td>\n",
       "      <td>...</td>\n",
       "      <td>...</td>\n",
       "      <td>...</td>\n",
       "      <td>...</td>\n",
       "      <td>...</td>\n",
       "      <td>...</td>\n",
       "      <td>...</td>\n",
       "    </tr>\n",
       "    <tr>\n",
       "      <th>6661</th>\n",
       "      <td>2019-01-22 00:37:57</td>\n",
       "      <td>Hudson-Grady</td>\n",
       "      <td>shopping_pos</td>\n",
       "      <td>122.00</td>\n",
       "      <td>Athena</td>\n",
       "      <td>OR</td>\n",
       "      <td>45.8289</td>\n",
       "      <td>-118.4971</td>\n",
       "      <td>1302</td>\n",
       "      <td>Dealer</td>\n",
       "      <td>1976-10-18</td>\n",
       "      <td>699a4c06b22711bf3e0d8ef91232d356</td>\n",
       "      <td>46.442439</td>\n",
       "      <td>-118.524214</td>\n",
       "      <td>0</td>\n",
       "    </tr>\n",
       "    <tr>\n",
       "      <th>6662</th>\n",
       "      <td>2019-01-22 00:41:24</td>\n",
       "      <td>\"Nienow, Ankunding and Collie\"</td>\n",
       "      <td>misc_pos</td>\n",
       "      <td>9.07</td>\n",
       "      <td>Gardiner</td>\n",
       "      <td>OR</td>\n",
       "      <td>43.7857</td>\n",
       "      <td>-124.1437</td>\n",
       "      <td>260</td>\n",
       "      <td>\"Engineer, maintenance\"</td>\n",
       "      <td>1956-09-01</td>\n",
       "      <td>080d620d24815c7d6c637cf0b71dde8e</td>\n",
       "      <td>42.901265</td>\n",
       "      <td>-124.995317</td>\n",
       "      <td>0</td>\n",
       "    </tr>\n",
       "    <tr>\n",
       "      <th>6663</th>\n",
       "      <td>2019-01-22 00:42:49</td>\n",
       "      <td>Pacocha-O'Reilly</td>\n",
       "      <td>grocery_pos</td>\n",
       "      <td>104.84</td>\n",
       "      <td>Alva</td>\n",
       "      <td>WY</td>\n",
       "      <td>44.6873</td>\n",
       "      <td>-104.4414</td>\n",
       "      <td>110</td>\n",
       "      <td>\"Administrator, local government\"</td>\n",
       "      <td>1973-05-16</td>\n",
       "      <td>3c346c8cd627c5fe3ed57430db2e9ae7</td>\n",
       "      <td>45.538062</td>\n",
       "      <td>-104.542117</td>\n",
       "      <td>0</td>\n",
       "    </tr>\n",
       "    <tr>\n",
       "      <th>6664</th>\n",
       "      <td>2019-01-22 00:48:49</td>\n",
       "      <td>\"Bins, Balistreri and Beatty\"</td>\n",
       "      <td>shopping_pos</td>\n",
       "      <td>268.16</td>\n",
       "      <td>Wales</td>\n",
       "      <td>AK</td>\n",
       "      <td>64.7556</td>\n",
       "      <td>-165.6723</td>\n",
       "      <td>145</td>\n",
       "      <td>\"Administrator, education\"</td>\n",
       "      <td>1939-11-09</td>\n",
       "      <td>e66ffcc95ba7fc490486242af1205d04</td>\n",
       "      <td>64.081462</td>\n",
       "      <td>-165.898698</td>\n",
       "      <td>0</td>\n",
       "    </tr>\n",
       "    <tr>\n",
       "      <th>6665</th>\n",
       "      <td>2019-01-22 00:55:15</td>\n",
       "      <td>Daugherty-Thompson</td>\n",
       "      <td>food_dining</td>\n",
       "      <td>50.09</td>\n",
       "      <td>Unionville</td>\n",
       "      <td>MO</td>\n",
       "      <td>40.4815</td>\n",
       "      <td>-92.9951</td>\n",
       "      <td>3805</td>\n",
       "      <td>\"Investment banker, corporate\"</td>\n",
       "      <td>1950-09-15</td>\n",
       "      <td>65e7370f473f9b9d75796c8033a7c929</td>\n",
       "      <td>40.387243</td>\n",
       "      <td>-92.224871</td>\n",
       "      <td>0</td>\n",
       "    </tr>\n",
       "  </tbody>\n",
       "</table>\n",
       "<p>6666 rows × 15 columns</p>\n",
       "</div>"
      ],
      "text/plain": [
       "     trans_date_trans_time                        merchant       category  \\\n",
       "0      2019-01-01 00:00:44     \"Heller, Gutmann and Zieme\"    grocery_pos   \n",
       "1      2019-01-01 00:00:51                  Lind-Buckridge  entertainment   \n",
       "2      2019-01-01 00:07:27                       Kiehn Inc    grocery_pos   \n",
       "3      2019-01-01 00:09:03                     Beier-Hyatt   shopping_pos   \n",
       "4      2019-01-01 00:21:32                      Bruen-Yost       misc_pos   \n",
       "...                    ...                             ...            ...   \n",
       "6661   2019-01-22 00:37:57                    Hudson-Grady   shopping_pos   \n",
       "6662   2019-01-22 00:41:24  \"Nienow, Ankunding and Collie\"       misc_pos   \n",
       "6663   2019-01-22 00:42:49                Pacocha-O'Reilly    grocery_pos   \n",
       "6664   2019-01-22 00:48:49   \"Bins, Balistreri and Beatty\"   shopping_pos   \n",
       "6665   2019-01-22 00:55:15              Daugherty-Thompson    food_dining   \n",
       "\n",
       "         amt                      city state      lat      long  city_pop  \\\n",
       "0     107.23                    Orient    WA  48.8878 -118.2105       149   \n",
       "1     220.11                Malad City    ID  42.1808 -112.2620      4154   \n",
       "2      96.29                   Grenada    CA  41.6125 -122.5258       589   \n",
       "3       7.77  High Rolls Mountain Park    NM  32.9396 -105.8189       899   \n",
       "4       6.85                   Freedom    WY  43.0172 -111.0292       471   \n",
       "...      ...                       ...   ...      ...       ...       ...   \n",
       "6661  122.00                    Athena    OR  45.8289 -118.4971      1302   \n",
       "6662    9.07                  Gardiner    OR  43.7857 -124.1437       260   \n",
       "6663  104.84                      Alva    WY  44.6873 -104.4414       110   \n",
       "6664  268.16                     Wales    AK  64.7556 -165.6723       145   \n",
       "6665   50.09                Unionville    MO  40.4815  -92.9951      3805   \n",
       "\n",
       "                                    job         dob  \\\n",
       "0     Special educational needs teacher  1978-06-21   \n",
       "1           Nature conservation officer  1962-01-19   \n",
       "2                       Systems analyst  1945-12-21   \n",
       "3                       Naval architect  1967-08-30   \n",
       "4           \"Education officer, museum\"  1967-08-02   \n",
       "...                                 ...         ...   \n",
       "6661                             Dealer  1976-10-18   \n",
       "6662            \"Engineer, maintenance\"  1956-09-01   \n",
       "6663  \"Administrator, local government\"  1973-05-16   \n",
       "6664         \"Administrator, education\"  1939-11-09   \n",
       "6665     \"Investment banker, corporate\"  1950-09-15   \n",
       "\n",
       "                             trans_num  merch_lat  merch_long  is_fraud  \n",
       "0     1f76529f8574734946361c461b024d99  49.159047 -118.186462         0  \n",
       "1     a1a22d70485983eac12b5b88dad1cf95  43.150704 -112.154481         0  \n",
       "2     413636e759663f264aae1819a4d4f231  41.657520 -122.230347         0  \n",
       "3     8a6293af5ed278dea14448ded2685fea  32.863258 -106.520205         0  \n",
       "4     f3c43d336e92a44fc2fb67058d5949e3  43.753735 -111.454923         0  \n",
       "...                                ...        ...         ...       ...  \n",
       "6661  699a4c06b22711bf3e0d8ef91232d356  46.442439 -118.524214         0  \n",
       "6662  080d620d24815c7d6c637cf0b71dde8e  42.901265 -124.995317         0  \n",
       "6663  3c346c8cd627c5fe3ed57430db2e9ae7  45.538062 -104.542117         0  \n",
       "6664  e66ffcc95ba7fc490486242af1205d04  64.081462 -165.898698         0  \n",
       "6665  65e7370f473f9b9d75796c8033a7c929  40.387243  -92.224871         0  \n",
       "\n",
       "[6666 rows x 15 columns]"
      ]
     },
     "execution_count": 3,
     "metadata": {},
     "output_type": "execute_result"
    }
   ],
   "source": [
    "dataset"
   ]
  },
  {
   "cell_type": "code",
   "execution_count": 4,
   "metadata": {
    "colab": {
     "base_uri": "https://localhost:8080/"
    },
    "id": "1TvaSIWYAOh6",
    "outputId": "fd81e231-c3c3-4efc-b03a-df52b32da02e"
   },
   "outputs": [
    {
     "data": {
      "text/plain": [
       "(6666, 15)"
      ]
     },
     "execution_count": 4,
     "metadata": {},
     "output_type": "execute_result"
    }
   ],
   "source": [
    "dataset.shape"
   ]
  },
  {
   "cell_type": "markdown",
   "metadata": {
    "id": "5El3WOxmrPXQ"
   },
   "source": [
    "# **Preprocessing the data.**"
   ]
  },
  {
   "cell_type": "code",
   "execution_count": 5,
   "metadata": {
    "colab": {
     "base_uri": "https://localhost:8080/",
     "height": 554
    },
    "id": "qM2V4FOgARpk",
    "outputId": "85a4b405-48cb-4ce1-a55c-a14f4a93bfef"
   },
   "outputs": [
    {
     "data": {
      "text/plain": [
       "trans_date_trans_time    0\n",
       "merchant                 0\n",
       "category                 0\n",
       "amt                      0\n",
       "city                     0\n",
       "state                    0\n",
       "lat                      0\n",
       "long                     0\n",
       "city_pop                 0\n",
       "job                      0\n",
       "dob                      0\n",
       "trans_num                0\n",
       "merch_lat                0\n",
       "merch_long               0\n",
       "is_fraud                 0\n",
       "dtype: int64"
      ]
     },
     "execution_count": 5,
     "metadata": {},
     "output_type": "execute_result"
    }
   ],
   "source": [
    "dataset.isnull().sum()"
   ]
  },
  {
   "cell_type": "code",
   "execution_count": 6,
   "metadata": {
    "colab": {
     "base_uri": "https://localhost:8080/",
     "height": 320
    },
    "id": "NYk57NSKL7YV",
    "outputId": "0a475cfc-4f8e-4368-e593-d5a02cc3b2bd"
   },
   "outputs": [
    {
     "data": {
      "text/html": [
       "<div>\n",
       "<style scoped>\n",
       "    .dataframe tbody tr th:only-of-type {\n",
       "        vertical-align: middle;\n",
       "    }\n",
       "\n",
       "    .dataframe tbody tr th {\n",
       "        vertical-align: top;\n",
       "    }\n",
       "\n",
       "    .dataframe thead th {\n",
       "        text-align: right;\n",
       "    }\n",
       "</style>\n",
       "<table border=\"1\" class=\"dataframe\">\n",
       "  <thead>\n",
       "    <tr style=\"text-align: right;\">\n",
       "      <th></th>\n",
       "      <th>amt</th>\n",
       "      <th>lat</th>\n",
       "      <th>long</th>\n",
       "      <th>city_pop</th>\n",
       "      <th>merch_lat</th>\n",
       "      <th>merch_long</th>\n",
       "      <th>is_fraud</th>\n",
       "    </tr>\n",
       "  </thead>\n",
       "  <tbody>\n",
       "    <tr>\n",
       "      <th>count</th>\n",
       "      <td>6666.000000</td>\n",
       "      <td>6666.000000</td>\n",
       "      <td>6666.000000</td>\n",
       "      <td>6.666000e+03</td>\n",
       "      <td>6666.000000</td>\n",
       "      <td>6666.000000</td>\n",
       "      <td>6666.000000</td>\n",
       "    </tr>\n",
       "    <tr>\n",
       "      <th>mean</th>\n",
       "      <td>72.151169</td>\n",
       "      <td>39.719401</td>\n",
       "      <td>-110.812883</td>\n",
       "      <td>1.074933e+05</td>\n",
       "      <td>39.718273</td>\n",
       "      <td>-110.822444</td>\n",
       "      <td>0.009451</td>\n",
       "    </tr>\n",
       "    <tr>\n",
       "      <th>std</th>\n",
       "      <td>125.781507</td>\n",
       "      <td>5.319824</td>\n",
       "      <td>13.035408</td>\n",
       "      <td>2.887422e+05</td>\n",
       "      <td>5.349734</td>\n",
       "      <td>13.047740</td>\n",
       "      <td>0.096763</td>\n",
       "    </tr>\n",
       "    <tr>\n",
       "      <th>min</th>\n",
       "      <td>1.010000</td>\n",
       "      <td>20.027100</td>\n",
       "      <td>-165.672300</td>\n",
       "      <td>4.600000e+01</td>\n",
       "      <td>19.040141</td>\n",
       "      <td>-166.629875</td>\n",
       "      <td>0.000000</td>\n",
       "    </tr>\n",
       "    <tr>\n",
       "      <th>25%</th>\n",
       "      <td>10.000000</td>\n",
       "      <td>36.670400</td>\n",
       "      <td>-120.093600</td>\n",
       "      <td>4.710000e+02</td>\n",
       "      <td>36.647607</td>\n",
       "      <td>-119.846388</td>\n",
       "      <td>0.000000</td>\n",
       "    </tr>\n",
       "    <tr>\n",
       "      <th>50%</th>\n",
       "      <td>47.040000</td>\n",
       "      <td>39.599400</td>\n",
       "      <td>-111.098500</td>\n",
       "      <td>1.645000e+03</td>\n",
       "      <td>39.538012</td>\n",
       "      <td>-111.013610</td>\n",
       "      <td>0.000000</td>\n",
       "    </tr>\n",
       "    <tr>\n",
       "      <th>75%</th>\n",
       "      <td>85.232500</td>\n",
       "      <td>41.696400</td>\n",
       "      <td>-101.136000</td>\n",
       "      <td>3.543900e+04</td>\n",
       "      <td>42.171323</td>\n",
       "      <td>-100.556067</td>\n",
       "      <td>0.000000</td>\n",
       "    </tr>\n",
       "    <tr>\n",
       "      <th>max</th>\n",
       "      <td>3178.510000</td>\n",
       "      <td>65.689900</td>\n",
       "      <td>-89.628700</td>\n",
       "      <td>2.383912e+06</td>\n",
       "      <td>66.659242</td>\n",
       "      <td>-88.927438</td>\n",
       "      <td>1.000000</td>\n",
       "    </tr>\n",
       "  </tbody>\n",
       "</table>\n",
       "</div>"
      ],
      "text/plain": [
       "               amt          lat         long      city_pop    merch_lat  \\\n",
       "count  6666.000000  6666.000000  6666.000000  6.666000e+03  6666.000000   \n",
       "mean     72.151169    39.719401  -110.812883  1.074933e+05    39.718273   \n",
       "std     125.781507     5.319824    13.035408  2.887422e+05     5.349734   \n",
       "min       1.010000    20.027100  -165.672300  4.600000e+01    19.040141   \n",
       "25%      10.000000    36.670400  -120.093600  4.710000e+02    36.647607   \n",
       "50%      47.040000    39.599400  -111.098500  1.645000e+03    39.538012   \n",
       "75%      85.232500    41.696400  -101.136000  3.543900e+04    42.171323   \n",
       "max    3178.510000    65.689900   -89.628700  2.383912e+06    66.659242   \n",
       "\n",
       "        merch_long     is_fraud  \n",
       "count  6666.000000  6666.000000  \n",
       "mean   -110.822444     0.009451  \n",
       "std      13.047740     0.096763  \n",
       "min    -166.629875     0.000000  \n",
       "25%    -119.846388     0.000000  \n",
       "50%    -111.013610     0.000000  \n",
       "75%    -100.556067     0.000000  \n",
       "max     -88.927438     1.000000  "
      ]
     },
     "execution_count": 6,
     "metadata": {},
     "output_type": "execute_result"
    }
   ],
   "source": [
    "dataset.describe()"
   ]
  },
  {
   "cell_type": "code",
   "execution_count": 7,
   "metadata": {
    "colab": {
     "base_uri": "https://localhost:8080/",
     "height": 878
    },
    "id": "7NwADAlxMRye",
    "outputId": "60b1f8a0-4631-4d84-ec27-87b016069f0d"
   },
   "outputs": [
    {
     "data": {
      "text/plain": [
       "Text(0.5, 0.98, 'Visualizing the Describe Function')"
      ]
     },
     "execution_count": 7,
     "metadata": {},
     "output_type": "execute_result"
    },
    {
     "data": {
      "image/png": "[encoded data removed]",
      "text/plain": [
       "<Figure size 1000x1000 with 9 Axes>"
      ]
     },
     "metadata": {},
     "output_type": "display_data"
    }
   ],
   "source": [
    "dataset.describe().hist(figsize=(10,10))\n",
    "plt.suptitle('Visualizing the Describe Function',fontsize=20)"
   ]
  },
  {
   "cell_type": "code",
   "execution_count": 8,
   "metadata": {
    "colab": {
     "base_uri": "https://localhost:8080/",
     "height": 187
    },
    "id": "YKhEjasvMZ5i",
    "outputId": "fe34e3b6-6dd9-45b4-ec76-90f649b354f2"
   },
   "outputs": [
    {
     "data": {
      "text/plain": [
       "<bound method Series.unique of 0          \"Heller, Gutmann and Zieme\"\n",
       "1                       Lind-Buckridge\n",
       "2                            Kiehn Inc\n",
       "3                          Beier-Hyatt\n",
       "4                           Bruen-Yost\n",
       "                     ...              \n",
       "6661                      Hudson-Grady\n",
       "6662    \"Nienow, Ankunding and Collie\"\n",
       "6663                  Pacocha-O'Reilly\n",
       "6664     \"Bins, Balistreri and Beatty\"\n",
       "6665                Daugherty-Thompson\n",
       "Name: merchant, Length: 6666, dtype: object>"
      ]
     },
     "execution_count": 8,
     "metadata": {},
     "output_type": "execute_result"
    }
   ],
   "source": [
    "dataset['merchant'].unique"
   ]
  },
  {
   "cell_type": "code",
   "execution_count": 9,
   "metadata": {
    "colab": {
     "base_uri": "https://localhost:8080/"
    },
    "id": "jJOKcGjXrcQf",
    "outputId": "9d2a98e8-f0e9-4cf3-d760-de2e3142881b"
   },
   "outputs": [
    {
     "data": {
      "text/plain": [
       "array(['grocery_pos', 'entertainment', 'shopping_pos', 'misc_pos',\n",
       "       'shopping_net', 'gas_transport', 'misc_net', 'grocery_net',\n",
       "       'food_dining', 'health_fitness', 'kids_pets', 'home',\n",
       "       'personal_care', 'travel'], dtype=object)"
      ]
     },
     "execution_count": 9,
     "metadata": {},
     "output_type": "execute_result"
    }
   ],
   "source": [
    "dataset['category'].unique()"
   ]
  },
  {
   "cell_type": "code",
   "execution_count": 10,
   "metadata": {
    "colab": {
     "base_uri": "https://localhost:8080/"
    },
    "id": "S6Dm1q9RrhRT",
    "outputId": "7e83b11f-12d0-4a79-d527-01430b0d05de"
   },
   "outputs": [
    {
     "data": {
      "text/plain": [
       "array(['Orient', 'Malad City', 'Grenada', 'High Rolls Mountain Park',\n",
       "       'Freedom', 'Honokaa', 'Valentine', 'Westfir', 'Thompson', 'Conway',\n",
       "       'Athena', 'San Jose', 'Ravenna', 'Parks', 'Fort Washakie',\n",
       "       'Littleton', 'Meadville', 'Moab', 'Hawthorne', 'Manville',\n",
       "       'June Lake', 'Sixes', 'Holstein', 'Westerville', 'Ballwin',\n",
       "       'Fields Landing', 'Louisiana', 'Kansas City', 'Mesa', 'Lonetree',\n",
       "       'Centerview', 'Colorado Springs', 'Blairsden-Graeagle', 'Cardwell',\n",
       "       'Phoenix', 'Newhall', 'Tomales', 'Redford', 'Weeping Water',\n",
       "       'Portland', 'Iliff', 'Burlington', 'Wales', 'Mound City',\n",
       "       'Greenview', 'Lakeport', 'Llano', 'Carlotta', 'Dumont',\n",
       "       'Fullerton', 'North Loup', 'Browning', 'Kent', 'Fiddletown',\n",
       "       'Huntington Beach', 'Meridian', 'Glendale', 'Alva', 'Blairstown',\n",
       "       'Laguna Hills', 'Albuquerque', 'Azusa', 'Gardiner', 'Rock Springs',\n",
       "       'Paauilo', 'Eugene', 'Daly City', 'Mendon', 'Powell Butte',\n",
       "       'Utica', 'Santa Monica', 'Laramie', 'Lagrange', 'Brainard',\n",
       "       'Humboldt', 'Corona', 'Yellowstone National Park', 'Shedd',\n",
       "       'Independence', 'Paradise Valley', 'Camden', 'San Diego',\n",
       "       'Kissee Mills', 'Espanola', 'Campbell', 'Indian Wells',\n",
       "       'Mountain Center', 'Helm', 'Lowell', 'Lamy', 'Hatch', 'Oakland',\n",
       "       'Parker Dam', 'Rocky Mount', 'Moriarty', 'Hooper', 'Cascade Locks',\n",
       "       'Vinton', 'Roseland', 'Lake Oswego', 'Parker', 'Colton',\n",
       "       'Kirtland Afb', 'Riverton', 'Sacramento', 'Sun City', 'Jelm',\n",
       "       'Meredith', 'Luray', 'Smith River', 'Superior', 'Red River',\n",
       "       'Arvada', 'Bay City', 'Sutherland', 'Owensville', 'Altonah',\n",
       "       'Pueblo', 'Issaquah', 'Saint Louis', 'Wheaton', 'Palmdale',\n",
       "       'Burbank', 'Jordan Valley', 'Newberg', 'American Fork', 'Stayton',\n",
       "       'Napa', 'Norwalk', 'Sprague', 'Crownpoint', 'Claremont', 'Nelson',\n",
       "       'Brashear', 'Tekoa', 'Red Cliff', 'Omaha', 'Arnold', 'Odessa',\n",
       "       'Woods Cross', 'Broomfield', 'Unionville', 'Carroll', 'Manley',\n",
       "       'Matthews', 'Syracuse', 'Ruidoso', 'Howells', 'Ashford', 'Huslia',\n",
       "       'Port Costa', 'Kirk', 'Monitor', 'Williamsburg', 'Aurora',\n",
       "       'Clarksville', 'Scotts Mills', 'Wendel', 'Loving', 'Los Angeles',\n",
       "       'Vancouver', 'Spirit Lake'], dtype=object)"
      ]
     },
     "execution_count": 10,
     "metadata": {},
     "output_type": "execute_result"
    }
   ],
   "source": [
    "dataset['city'].unique()"
   ]
  },
  {
   "cell_type": "code",
   "execution_count": 11,
   "metadata": {
    "colab": {
     "base_uri": "https://localhost:8080/"
    },
    "id": "NxFuenS1rnij",
    "outputId": "8beefe92-dba2-4120-eaf9-f22b6c3f0199"
   },
   "outputs": [
    {
     "data": {
      "text/plain": [
       "array(['WA', 'ID', 'CA', 'NM', 'WY', 'HI', 'NE', 'OR', 'UT', 'AZ', 'CO',\n",
       "       'MO', 'AK'], dtype=object)"
      ]
     },
     "execution_count": 11,
     "metadata": {},
     "output_type": "execute_result"
    }
   ],
   "source": [
    "dataset['state'].unique()"
   ]
  },
  {
   "cell_type": "code",
   "execution_count": 12,
   "metadata": {
    "colab": {
     "base_uri": "https://localhost:8080/"
    },
    "id": "8XWlSeIArtFe",
    "outputId": "ccbbcdd3-430f-4409-a9f2-62da90545e09"
   },
   "outputs": [
    {
     "data": {
      "text/plain": [
       "array(['Special educational needs teacher', 'Nature conservation officer',\n",
       "       'Systems analyst', 'Naval architect',\n",
       "       '\"Education officer, museum\"', 'Physiotherapist',\n",
       "       'Network engineer', 'Forensic psychologist',\n",
       "       '\"Surveyor, minerals\"', '\"Research officer, political party\"',\n",
       "       'Dealer', 'Science writer', '\"Solicitor, Scotland\"',\n",
       "       '\"Geologist, engineering\"', 'Freight forwarder', 'Water engineer',\n",
       "       'Tourist information centre manager', 'Location manager',\n",
       "       '\"Editor, magazine features\"', 'Educational psychologist',\n",
       "       'Health service manager', 'Retail merchandiser',\n",
       "       'Telecommunications researcher', 'Product designer',\n",
       "       '\"Engineer, communications\"', '\"Scientist, audiological\"',\n",
       "       '\"Teacher, early years/pre\"', 'Counsellor', 'Cartographer',\n",
       "       'Research scientist (physical sciences)', 'Electronics engineer',\n",
       "       'Museum/gallery exhibitions officer',\n",
       "       'Chartered legal executive (England and Wales)',\n",
       "       'Television floor manager', 'Contractor', 'Health physicist',\n",
       "       'Occupational psychologist', 'Investment analyst',\n",
       "       '\"Engineer, building services\"', 'Community arts worker',\n",
       "       'Public house manager', '\"Administrator, education\"', 'Architect',\n",
       "       'Call centre manager', 'Podiatrist', 'Architectural technologist',\n",
       "       '\"Therapist, occupational\"', 'Mental health nurse',\n",
       "       '\"Surveyor, mining\"', '\"Nurse, children\\'s\"', 'Cytogeneticist',\n",
       "       'Museum education officer', 'Immigration officer',\n",
       "       '\"Therapist, horticultural\"', 'Intelligence analyst',\n",
       "       'Advertising account planner', '\"Administrator, local government\"',\n",
       "       'Agricultural consultant', 'Sales executive', 'Charity officer',\n",
       "       'Civil Service fast streamer', '\"Engineer, maintenance\"',\n",
       "       'Music therapist', '\"Scientist, research (maths)\"',\n",
       "       '\"Scientist, physiological\"', '\"Buyer, industrial\"',\n",
       "       'Local government officer', 'Land/geomatics surveyor',\n",
       "       '\"Civil engineer, contracting\"', '\"Pilot, airline\"',\n",
       "       'Product/process development scientist', 'Associate Professor',\n",
       "       'Counselling psychologist', 'Wellsite geologist',\n",
       "       'Materials engineer', 'Radio broadcast assistant',\n",
       "       '\"Engineer, production\"', 'Building surveyor',\n",
       "       'Colour technologist', 'Chartered public finance accountant',\n",
       "       '\"Engineer, agricultural\"',\n",
       "       'Historic buildings inspector/conservation officer',\n",
       "       'Learning mentor', '\"Therapist, music\"', 'Early years teacher',\n",
       "       'Public relations account executive', 'Geoscientist', 'Barista',\n",
       "       'Marketing executive', 'Tax inspector', '\"Therapist, art\"',\n",
       "       '\"Engineer, automotive\"', 'Barrister', 'Education administrator',\n",
       "       '\"Nurse, mental health\"', 'Planning and development surveyor',\n",
       "       'Chief Marketing Officer', '\"Surveyor, land/geomatics\"',\n",
       "       '\"Lecturer, higher education\"', 'Magazine features editor',\n",
       "       '\"Designer, exhibition/display\"', '\"Pharmacist, hospital\"',\n",
       "       'Public librarian', 'Town planner', 'Web designer',\n",
       "       'Petroleum engineer', 'Information systems manager',\n",
       "       'Hotel manager', 'Insurance broker', '\"Sales professional, IT\"',\n",
       "       'Further education lecturer', 'Osteopath',\n",
       "       'Occupational hygienist', 'Production manager',\n",
       "       'Chemical engineer', 'Musician', 'Economist', 'Futures trader',\n",
       "       'Civil Service administrator', '\"Engineer, biomedical\"',\n",
       "       'Airline pilot', 'Firefighter', 'Chiropodist', 'Soil scientist',\n",
       "       'IT consultant', 'Television/film/video producer',\n",
       "       'Private music teacher', 'Clothing/textile technologist',\n",
       "       'Human resources officer', 'Clinical research associate',\n",
       "       '\"Engineer, electronics\"', '\"Investment banker, corporate\"',\n",
       "       'Metallurgist', 'Aeronautical engineer',\n",
       "       '\"Radiographer, diagnostic\"', 'Licensed conveyancer',\n",
       "       'Research scientist (maths)', 'Video editor',\n",
       "       '\"Engineer, civil (consulting)\"',\n",
       "       'Armed forces training and education officer',\n",
       "       'Medical technical officer', 'Glass blower/designer',\n",
       "       '\"Scientist, marine\"', 'Exercise physiologist',\n",
       "       '\"Engineer, petroleum\"', '\"Teacher, adult education\"',\n",
       "       '\"Journalist, newspaper\"', 'Teaching laboratory technician',\n",
       "       'Comptroller'], dtype=object)"
      ]
     },
     "execution_count": 12,
     "metadata": {},
     "output_type": "execute_result"
    }
   ],
   "source": [
    "dataset['job'].unique()"
   ]
  },
  {
   "cell_type": "code",
   "execution_count": 13,
   "metadata": {
    "colab": {
     "base_uri": "https://localhost:8080/"
    },
    "id": "deF_e5rcrxI0",
    "outputId": "aefa5184-524a-459a-b2be-39bb17e60ea8"
   },
   "outputs": [
    {
     "data": {
      "text/plain": [
       "array(['1f76529f8574734946361c461b024d99',\n",
       "       'a1a22d70485983eac12b5b88dad1cf95',\n",
       "       '413636e759663f264aae1819a4d4f231', ...,\n",
       "       '3c346c8cd627c5fe3ed57430db2e9ae7',\n",
       "       'e66ffcc95ba7fc490486242af1205d04',\n",
       "       '65e7370f473f9b9d75796c8033a7c929'], dtype=object)"
      ]
     },
     "execution_count": 13,
     "metadata": {},
     "output_type": "execute_result"
    }
   ],
   "source": [
    "dataset['trans_num'].unique()"
   ]
  },
  {
   "cell_type": "markdown",
   "metadata": {
    "id": "T1mjqbQ2pOvL"
   },
   "source": [
    "# **EDA**"
   ]
  },
  {
   "cell_type": "code",
   "execution_count": 14,
   "metadata": {
    "colab": {
     "base_uri": "https://localhost:8080/",
     "height": 365
    },
    "id": "EdC3BXmwX-M8",
    "outputId": "fe96832b-38ea-41c9-cd6a-acbef7651183"
   },
   "outputs": [
    {
     "data": {
      "image/png": "[encoded data removed]",
      "text/plain": [
       "<Figure size 1200x500 with 1 Axes>"
      ]
     },
     "metadata": {},
     "output_type": "display_data"
    }
   ],
   "source": [
    "# Distribution of transaction amounts\n",
    "plt.figure(figsize=(12,5))\n",
    "sns.histplot(dataset['amt'], bins=50, kde=True)\n",
    "plt.suptitle('Distribution of Transaction Amounts',fontsize=20)\n",
    "plt.grid()"
   ]
  },
  {
   "cell_type": "code",
   "execution_count": 15,
   "metadata": {},
   "outputs": [
    {
     "data": {
      "text/plain": [
       "(array([ 0,  1,  2,  3,  4,  5,  6,  7,  8,  9, 10, 11, 12, 13]),\n",
       " [Text(0, 0, 'grocery_pos'),\n",
       "  Text(1, 0, 'entertainment'),\n",
       "  Text(2, 0, 'shopping_pos'),\n",
       "  Text(3, 0, 'misc_pos'),\n",
       "  Text(4, 0, 'shopping_net'),\n",
       "  Text(5, 0, 'gas_transport'),\n",
       "  Text(6, 0, 'misc_net'),\n",
       "  Text(7, 0, 'grocery_net'),\n",
       "  Text(8, 0, 'food_dining'),\n",
       "  Text(9, 0, 'health_fitness'),\n",
       "  Text(10, 0, 'kids_pets'),\n",
       "  Text(11, 0, 'home'),\n",
       "  Text(12, 0, 'personal_care'),\n",
       "  Text(13, 0, 'travel')])"
      ]
     },
     "execution_count": 15,
     "metadata": {},
     "output_type": "execute_result"
    },
    {
     "data": {
      "image/png": "[encoded data removed]",
      "text/plain": [
       "<Figure size 1200x800 with 1 Axes>"
      ]
     },
     "metadata": {},
     "output_type": "display_data"
    }
   ],
   "source": [
    "plt.figure(figsize=(12, 8))\n",
    "sns.boxplot(x='category', y='amt', data=dataset)\n",
    "plt.suptitle('Boxplot of Transaction Amount by Category',fontsize=20)\n",
    "plt.xticks(rotation=45)"
   ]
  },
  {
   "cell_type": "code",
   "execution_count": 16,
   "metadata": {
    "colab": {
     "base_uri": "https://localhost:8080/",
     "height": 428
    },
    "id": "UKyQ7n7tZDAK",
    "outputId": "a276cdfd-fe7b-4e29-dff0-8f950bb35efb"
   },
   "outputs": [
    {
     "data": {
      "text/plain": [
       "Text(0.5, 0.98, 'Fraudulent vs Non-Fraudulent Transactions')"
      ]
     },
     "execution_count": 16,
     "metadata": {},
     "output_type": "execute_result"
    },
    {
     "data": {
      "image/png": "[encoded data removed]",
      "text/plain": [
       "<Figure size 1000x500 with 1 Axes>"
      ]
     },
     "metadata": {},
     "output_type": "display_data"
    }
   ],
   "source": [
    "plt.figure(figsize=(10, 5))\n",
    "sns.countplot(x='is_fraud', data=dataset)\n",
    "plt.suptitle('Fraudulent vs Non-Fraudulent Transactions',fontsize=20)"
   ]
  },
  {
   "cell_type": "code",
   "execution_count": 17,
   "metadata": {
    "colab": {
     "base_uri": "https://localhost:8080/",
     "height": 554
    },
    "id": "63XAPsv0phfh",
    "outputId": "df09924e-4c6f-4a78-fac4-3f31b2ccc4e6"
   },
   "outputs": [
    {
     "data": {
      "text/plain": [
       "category\n",
       "entertainment     0.008565\n",
       "food_dining       0.002342\n",
       "gas_transport     0.009063\n",
       "grocery_net       0.020661\n",
       "grocery_pos       0.017028\n",
       "health_fitness    0.002237\n",
       "home              0.001488\n",
       "kids_pets         0.001742\n",
       "misc_net          0.019231\n",
       "misc_pos          0.005208\n",
       "personal_care     0.004211\n",
       "shopping_net      0.026643\n",
       "shopping_pos      0.011364\n",
       "travel            0.005587\n",
       "Name: is_fraud, dtype: float64"
      ]
     },
     "execution_count": 17,
     "metadata": {},
     "output_type": "execute_result"
    }
   ],
   "source": [
    "fraud_by_category = dataset.groupby('category')['is_fraud'].mean()\n",
    "fraud_by_category"
   ]
  },
  {
   "cell_type": "code",
   "execution_count": 18,
   "metadata": {
    "colab": {
     "base_uri": "https://localhost:8080/",
     "height": 358
    },
    "id": "yKJhClrbpsbN",
    "outputId": "f8a238e8-09f0-4dbe-b188-fe8a9e0ef6ca"
   },
   "outputs": [
    {
     "data": {
      "text/plain": [
       "Text(0.5, 0.98, 'Fraud By Category')"
      ]
     },
     "execution_count": 18,
     "metadata": {},
     "output_type": "execute_result"
    },
    {
     "data": {
      "image/png": "[encoded data removed]",
      "text/plain": [
       "<Figure size 1400x500 with 1 Axes>"
      ]
     },
     "metadata": {},
     "output_type": "display_data"
    }
   ],
   "source": [
    "plt.figure(figsize=(14,5))\n",
    "sns.histplot(data=fraud_by_category,kde=True,bins=10)\n",
    "plt.suptitle('Fraud By Category')"
   ]
  },
  {
   "cell_type": "code",
   "execution_count": 19,
   "metadata": {},
   "outputs": [
    {
     "data": {
      "text/plain": [
       "Text(0.5, 0.98, 'Top 10 Transaction Categories')"
      ]
     },
     "execution_count": 19,
     "metadata": {},
     "output_type": "execute_result"
    },
    {
     "data": {
      "image/png": "[encoded data removed]",
      "text/plain": [
       "<Figure size 1200x600 with 1 Axes>"
      ]
     },
     "metadata": {},
     "output_type": "display_data"
    }
   ],
   "source": [
    "category_counts = dataset['category'].value_counts().nlargest(10)\n",
    "plt.figure(figsize=(12, 6))\n",
    "sns.barplot(x=category_counts.values, y=category_counts.index, palette='viridis')\n",
    "plt.suptitle('Top 10 Transaction Categories',fontsize=20)"
   ]
  },
  {
   "cell_type": "code",
   "execution_count": 20,
   "metadata": {},
   "outputs": [
    {
     "data": {
      "text/plain": [
       "Text(0.5, 0.98, 'Geographical Distribution of Transactions (Latitude vs Longitude)')"
      ]
     },
     "execution_count": 20,
     "metadata": {},
     "output_type": "execute_result"
    },
    {
     "data": {
      "image/png": "[encoded data removed]",
      "text/plain": [
       "<Figure size 1400x500 with 1 Axes>"
      ]
     },
     "metadata": {},
     "output_type": "display_data"
    }
   ],
   "source": [
    "plt.figure(figsize=(14,5))\n",
    "sns.scatterplot(x='lat', y='long', hue='is_fraud', palette={0: 'blue', 1: 'red'}, data=dataset)\n",
    "plt.suptitle('Geographical Distribution of Transactions (Latitude vs Longitude)',fontsize=20)"
   ]
  },
  {
   "cell_type": "code",
   "execution_count": 21,
   "metadata": {
    "colab": {
     "base_uri": "https://localhost:8080/",
     "height": 808
    },
    "id": "XbmNrlcWauTf",
    "outputId": "0c6f4bb3-b4d1-4239-d557-73dbcf0e1e89"
   },
   "outputs": [
    {
     "name": "stderr",
     "output_type": "stream",
     "text": [
      "C:\\Users\\Admin\\AppData\\Local\\Temp\\ipykernel_12376\\1811615176.py:3: FutureWarning: The default value of numeric_only in DataFrame.corr is deprecated. In a future version, it will default to False. Select only valid columns or specify the value of numeric_only to silence this warning.\n",
      "  sns.heatmap(dataset.corr(),annot=True,cmap='coolwarm')\n"
     ]
    },
    {
     "data": {
      "text/plain": [
       "Text(0.5, 0.98, 'Correlation of the Dataset')"
      ]
     },
     "execution_count": 21,
     "metadata": {},
     "output_type": "execute_result"
    },
    {
     "data": {
      "image/png": "[encoded data removed]",
      "text/plain": [
       "<Figure size 1400x500 with 2 Axes>"
      ]
     },
     "metadata": {},
     "output_type": "display_data"
    }
   ],
   "source": [
    "#Let's find the correlation of the dataset using the heatmap\n",
    "plt.figure(figsize=(14,5))\n",
    "sns.heatmap(dataset.corr(),annot=True,cmap='coolwarm')\n",
    "plt.suptitle('Correlation of the Dataset',fontsize=20)"
   ]
  },
  {
   "cell_type": "markdown",
   "metadata": {},
   "source": [
    "# OUTLIERS"
   ]
  },
  {
   "cell_type": "code",
   "execution_count": 22,
   "metadata": {
    "colab": {
     "base_uri": "https://localhost:8080/",
     "height": 531
    },
    "id": "jw-lYqUMj-vl",
    "outputId": "8c2de419-ed18-4f75-bf80-44dea686901b"
   },
   "outputs": [
    {
     "data": {
      "image/png": "[encoded data removed]",
      "text/plain": [
       "<Figure size 1000x600 with 1 Axes>"
      ]
     },
     "metadata": {},
     "output_type": "display_data"
    }
   ],
   "source": [
    "plt.figure(figsize=(10, 6))\n",
    "sns.boxplot(x=dataset['amt'])\n",
    "plt.title('Box Plot of Amounts')\n",
    "plt.show()"
   ]
  },
  {
   "cell_type": "code",
   "execution_count": 23,
   "metadata": {
    "id": "x8vt9N00Ew7N"
   },
   "outputs": [],
   "source": [
    "from sklearn.preprocessing import LabelEncoder, StandardScaler"
   ]
  },
  {
   "cell_type": "code",
   "execution_count": 24,
   "metadata": {
    "id": "_LUGuw93Hvo0"
   },
   "outputs": [],
   "source": [
    "label=LabelEncoder()\n",
    "std=StandardScaler()"
   ]
  },
  {
   "cell_type": "code",
   "execution_count": 25,
   "metadata": {
    "id": "d-TqeIG1H0KD"
   },
   "outputs": [],
   "source": [
    "#Pre-processing the object data's\n",
    "dataset['trans_date_trans_time']=label.fit_transform(dataset['trans_date_trans_time'])\n",
    "dataset['merchant']=label.fit_transform(dataset['merchant'])\n",
    "dataset['category']=label.fit_transform(dataset['category'])\n",
    "dataset['city']=label.fit_transform(dataset['city'])\n",
    "dataset['state']=label.fit_transform(dataset['state'])\n",
    "dataset['job']=label.fit_transform(dataset['job'])\n",
    "dataset['dob']=label.fit_transform(dataset['dob'])\n",
    "dataset['trans_num']=label.fit_transform(dataset['trans_num'])"
   ]
  },
  {
   "cell_type": "code",
   "execution_count": 26,
   "metadata": {
    "id": "wsmJjmiFH5Ju"
   },
   "outputs": [],
   "source": [
    "x=dataset[['merchant','category','city','state','job','amt','lat','long','merch_lat','merch_long']]\n",
    "y=dataset[['is_fraud']]"
   ]
  },
  {
   "cell_type": "code",
   "execution_count": 27,
   "metadata": {},
   "outputs": [
    {
     "data": {
      "text/html": [
       "<div>\n",
       "<style scoped>\n",
       "    .dataframe tbody tr th:only-of-type {\n",
       "        vertical-align: middle;\n",
       "    }\n",
       "\n",
       "    .dataframe tbody tr th {\n",
       "        vertical-align: top;\n",
       "    }\n",
       "\n",
       "    .dataframe thead th {\n",
       "        text-align: right;\n",
       "    }\n",
       "</style>\n",
       "<table border=\"1\" class=\"dataframe\">\n",
       "  <thead>\n",
       "    <tr style=\"text-align: right;\">\n",
       "      <th></th>\n",
       "      <th>trans_date_trans_time</th>\n",
       "      <th>merchant</th>\n",
       "      <th>category</th>\n",
       "      <th>amt</th>\n",
       "      <th>city</th>\n",
       "      <th>state</th>\n",
       "      <th>lat</th>\n",
       "      <th>long</th>\n",
       "      <th>city_pop</th>\n",
       "      <th>job</th>\n",
       "      <th>dob</th>\n",
       "      <th>trans_num</th>\n",
       "      <th>merch_lat</th>\n",
       "      <th>merch_long</th>\n",
       "      <th>is_fraud</th>\n",
       "    </tr>\n",
       "  </thead>\n",
       "  <tbody>\n",
       "    <tr>\n",
       "      <th>0</th>\n",
       "      <td>0</td>\n",
       "      <td>61</td>\n",
       "      <td>4</td>\n",
       "      <td>107.23</td>\n",
       "      <td>107</td>\n",
       "      <td>11</td>\n",
       "      <td>48.8878</td>\n",
       "      <td>-118.2105</td>\n",
       "      <td>149</td>\n",
       "      <td>136</td>\n",
       "      <td>108</td>\n",
       "      <td>812</td>\n",
       "      <td>49.159047</td>\n",
       "      <td>-118.186462</td>\n",
       "      <td>0</td>\n",
       "    </tr>\n",
       "    <tr>\n",
       "      <th>1</th>\n",
       "      <td>1</td>\n",
       "      <td>498</td>\n",
       "      <td>0</td>\n",
       "      <td>220.11</td>\n",
       "      <td>84</td>\n",
       "      <td>5</td>\n",
       "      <td>42.1808</td>\n",
       "      <td>-112.2620</td>\n",
       "      <td>4154</td>\n",
       "      <td>112</td>\n",
       "      <td>53</td>\n",
       "      <td>4172</td>\n",
       "      <td>43.150704</td>\n",
       "      <td>-112.154481</td>\n",
       "      <td>0</td>\n",
       "    </tr>\n",
       "    <tr>\n",
       "      <th>2</th>\n",
       "      <td>2</td>\n",
       "      <td>442</td>\n",
       "      <td>4</td>\n",
       "      <td>96.29</td>\n",
       "      <td>46</td>\n",
       "      <td>2</td>\n",
       "      <td>41.6125</td>\n",
       "      <td>-122.5258</td>\n",
       "      <td>589</td>\n",
       "      <td>137</td>\n",
       "      <td>18</td>\n",
       "      <td>1684</td>\n",
       "      <td>41.657520</td>\n",
       "      <td>-122.230347</td>\n",
       "      <td>0</td>\n",
       "    </tr>\n",
       "    <tr>\n",
       "      <th>3</th>\n",
       "      <td>3</td>\n",
       "      <td>246</td>\n",
       "      <td>12</td>\n",
       "      <td>7.77</td>\n",
       "      <td>50</td>\n",
       "      <td>8</td>\n",
       "      <td>32.9396</td>\n",
       "      <td>-105.8189</td>\n",
       "      <td>899</td>\n",
       "      <td>113</td>\n",
       "      <td>72</td>\n",
       "      <td>3564</td>\n",
       "      <td>32.863258</td>\n",
       "      <td>-106.520205</td>\n",
       "      <td>0</td>\n",
       "    </tr>\n",
       "    <tr>\n",
       "      <th>4</th>\n",
       "      <td>4</td>\n",
       "      <td>277</td>\n",
       "      <td>9</td>\n",
       "      <td>6.85</td>\n",
       "      <td>41</td>\n",
       "      <td>12</td>\n",
       "      <td>43.0172</td>\n",
       "      <td>-111.0292</td>\n",
       "      <td>471</td>\n",
       "      <td>6</td>\n",
       "      <td>70</td>\n",
       "      <td>6348</td>\n",
       "      <td>43.753735</td>\n",
       "      <td>-111.454923</td>\n",
       "      <td>0</td>\n",
       "    </tr>\n",
       "    <tr>\n",
       "      <th>...</th>\n",
       "      <td>...</td>\n",
       "      <td>...</td>\n",
       "      <td>...</td>\n",
       "      <td>...</td>\n",
       "      <td>...</td>\n",
       "      <td>...</td>\n",
       "      <td>...</td>\n",
       "      <td>...</td>\n",
       "      <td>...</td>\n",
       "      <td>...</td>\n",
       "      <td>...</td>\n",
       "      <td>...</td>\n",
       "      <td>...</td>\n",
       "      <td>...</td>\n",
       "      <td>...</td>\n",
       "    </tr>\n",
       "    <tr>\n",
       "      <th>6661</th>\n",
       "      <td>6648</td>\n",
       "      <td>409</td>\n",
       "      <td>12</td>\n",
       "      <td>122.00</td>\n",
       "      <td>7</td>\n",
       "      <td>9</td>\n",
       "      <td>45.8289</td>\n",
       "      <td>-118.4971</td>\n",
       "      <td>1302</td>\n",
       "      <td>72</td>\n",
       "      <td>106</td>\n",
       "      <td>2725</td>\n",
       "      <td>46.442439</td>\n",
       "      <td>-118.524214</td>\n",
       "      <td>0</td>\n",
       "    </tr>\n",
       "    <tr>\n",
       "      <th>6662</th>\n",
       "      <td>6649</td>\n",
       "      <td>125</td>\n",
       "      <td>9</td>\n",
       "      <td>9.07</td>\n",
       "      <td>43</td>\n",
       "      <td>9</td>\n",
       "      <td>43.7857</td>\n",
       "      <td>-124.1437</td>\n",
       "      <td>260</td>\n",
       "      <td>14</td>\n",
       "      <td>35</td>\n",
       "      <td>199</td>\n",
       "      <td>42.901265</td>\n",
       "      <td>-124.995317</td>\n",
       "      <td>0</td>\n",
       "    </tr>\n",
       "    <tr>\n",
       "      <th>6663</th>\n",
       "      <td>6650</td>\n",
       "      <td>547</td>\n",
       "      <td>4</td>\n",
       "      <td>104.84</td>\n",
       "      <td>2</td>\n",
       "      <td>12</td>\n",
       "      <td>44.6873</td>\n",
       "      <td>-104.4414</td>\n",
       "      <td>110</td>\n",
       "      <td>1</td>\n",
       "      <td>91</td>\n",
       "      <td>1551</td>\n",
       "      <td>45.538062</td>\n",
       "      <td>-104.542117</td>\n",
       "      <td>0</td>\n",
       "    </tr>\n",
       "    <tr>\n",
       "      <th>6664</th>\n",
       "      <td>6651</td>\n",
       "      <td>14</td>\n",
       "      <td>12</td>\n",
       "      <td>268.16</td>\n",
       "      <td>153</td>\n",
       "      <td>0</td>\n",
       "      <td>64.7556</td>\n",
       "      <td>-165.6723</td>\n",
       "      <td>145</td>\n",
       "      <td>0</td>\n",
       "      <td>11</td>\n",
       "      <td>6004</td>\n",
       "      <td>64.081462</td>\n",
       "      <td>-165.898698</td>\n",
       "      <td>0</td>\n",
       "    </tr>\n",
       "    <tr>\n",
       "      <th>6665</th>\n",
       "      <td>6652</td>\n",
       "      <td>310</td>\n",
       "      <td>1</td>\n",
       "      <td>50.09</td>\n",
       "      <td>148</td>\n",
       "      <td>6</td>\n",
       "      <td>40.4815</td>\n",
       "      <td>-92.9951</td>\n",
       "      <td>3805</td>\n",
       "      <td>18</td>\n",
       "      <td>22</td>\n",
       "      <td>2645</td>\n",
       "      <td>40.387243</td>\n",
       "      <td>-92.224871</td>\n",
       "      <td>0</td>\n",
       "    </tr>\n",
       "  </tbody>\n",
       "</table>\n",
       "<p>6666 rows × 15 columns</p>\n",
       "</div>"
      ],
      "text/plain": [
       "      trans_date_trans_time  merchant  category     amt  city  state      lat  \\\n",
       "0                         0        61         4  107.23   107     11  48.8878   \n",
       "1                         1       498         0  220.11    84      5  42.1808   \n",
       "2                         2       442         4   96.29    46      2  41.6125   \n",
       "3                         3       246        12    7.77    50      8  32.9396   \n",
       "4                         4       277         9    6.85    41     12  43.0172   \n",
       "...                     ...       ...       ...     ...   ...    ...      ...   \n",
       "6661                   6648       409        12  122.00     7      9  45.8289   \n",
       "6662                   6649       125         9    9.07    43      9  43.7857   \n",
       "6663                   6650       547         4  104.84     2     12  44.6873   \n",
       "6664                   6651        14        12  268.16   153      0  64.7556   \n",
       "6665                   6652       310         1   50.09   148      6  40.4815   \n",
       "\n",
       "          long  city_pop  job  dob  trans_num  merch_lat  merch_long  is_fraud  \n",
       "0    -118.2105       149  136  108        812  49.159047 -118.186462         0  \n",
       "1    -112.2620      4154  112   53       4172  43.150704 -112.154481         0  \n",
       "2    -122.5258       589  137   18       1684  41.657520 -122.230347         0  \n",
       "3    -105.8189       899  113   72       3564  32.863258 -106.520205         0  \n",
       "4    -111.0292       471    6   70       6348  43.753735 -111.454923         0  \n",
       "...        ...       ...  ...  ...        ...        ...         ...       ...  \n",
       "6661 -118.4971      1302   72  106       2725  46.442439 -118.524214         0  \n",
       "6662 -124.1437       260   14   35        199  42.901265 -124.995317         0  \n",
       "6663 -104.4414       110    1   91       1551  45.538062 -104.542117         0  \n",
       "6664 -165.6723       145    0   11       6004  64.081462 -165.898698         0  \n",
       "6665  -92.9951      3805   18   22       2645  40.387243  -92.224871         0  \n",
       "\n",
       "[6666 rows x 15 columns]"
      ]
     },
     "execution_count": 27,
     "metadata": {},
     "output_type": "execute_result"
    }
   ],
   "source": [
    "dataset"
   ]
  },
  {
   "cell_type": "code",
   "execution_count": 28,
   "metadata": {
    "id": "vbLjMMg8H661"
   },
   "outputs": [],
   "source": [
    "from sklearn.model_selection import train_test_split"
   ]
  },
  {
   "cell_type": "code",
   "execution_count": 29,
   "metadata": {
    "id": "K-ZbMBT3H-lE"
   },
   "outputs": [],
   "source": [
    "x_train,x_test,y_train,y_test=train_test_split(x,y,test_size=0.4)"
   ]
  },
  {
   "cell_type": "code",
   "execution_count": 30,
   "metadata": {},
   "outputs": [
    {
     "data": {
      "text/plain": [
       "((3999, 10), (3999, 1))"
      ]
     },
     "execution_count": 30,
     "metadata": {},
     "output_type": "execute_result"
    }
   ],
   "source": [
    "x_train.shape,y_train.shape"
   ]
  },
  {
   "cell_type": "code",
   "execution_count": 31,
   "metadata": {
    "id": "dwyTLJjkIKfL"
   },
   "outputs": [],
   "source": [
    "from tensorflow import keras\n",
    "from tensorflow.keras.models import Sequential\n",
    "from tensorflow.keras.layers import Dense, LSTM, GRU, SimpleRNN, Bidirectional"
   ]
  },
  {
   "cell_type": "code",
   "execution_count": 32,
   "metadata": {},
   "outputs": [],
   "source": [
    "x_train=x_train.values\n",
    "x_test=x_test.values"
   ]
  },
  {
   "cell_type": "code",
   "execution_count": 33,
   "metadata": {},
   "outputs": [],
   "source": [
    "x_train = x_train.reshape(x_train.shape[0], x_train.shape[1], 1)\n",
    "x_test = x_test.reshape(x_test.shape[0], x_test.shape[1], 1)"
   ]
  },
  {
   "cell_type": "code",
   "execution_count": 34,
   "metadata": {
    "id": "3xFrkI6cIOe5"
   },
   "outputs": [],
   "source": [
    "input_shape = (x_train.shape[1],1)"
   ]
  },
  {
   "cell_type": "code",
   "execution_count": 35,
   "metadata": {
    "id": "ymaSSQokITXV"
   },
   "outputs": [],
   "source": [
    "model = Sequential()"
   ]
  },
  {
   "cell_type": "code",
   "execution_count": 36,
   "metadata": {
    "colab": {
     "base_uri": "https://localhost:8080/",
     "height": 312
    },
    "id": "wVYQgwX9IZtv",
    "outputId": "dd690ac0-e014-4168-b01a-8d115e1449b6"
   },
   "outputs": [
    {
     "name": "stdout",
     "output_type": "stream",
     "text": [
      "Model: \"sequential\"\n",
      "_________________________________________________________________\n",
      " Layer (type)                Output Shape              Param #   \n",
      "=================================================================\n",
      " dense (Dense)               (None, 10, 64)            128       \n",
      "                                                                 \n",
      " dense_1 (Dense)             (None, 10, 32)            2080      \n",
      "                                                                 \n",
      " dense_2 (Dense)             (None, 10, 16)            528       \n",
      "                                                                 \n",
      " dense_3 (Dense)             (None, 10, 1)             17        \n",
      "                                                                 \n",
      "=================================================================\n",
      "Total params: 2,753\n",
      "Trainable params: 2,753\n",
      "Non-trainable params: 0\n",
      "_________________________________________________________________\n"
     ]
    }
   ],
   "source": [
    "# Input layer\n",
    "model.add(Dense(units=64, activation='relu', input_shape=input_shape))\n",
    "# Hidden layers\n",
    "model.add(Dense(units=32, activation='relu'))\n",
    "model.add(Dense(units=16, activation='relu'))\n",
    "# Output layer\n",
    "model.add(Dense(units=1, activation='sigmoid'))\n",
    "model.summary()"
   ]
  },
  {
   "cell_type": "code",
   "execution_count": 37,
   "metadata": {
    "id": "7GqzHUT9JwE8"
   },
   "outputs": [],
   "source": [
    "model.compile(optimizer='adam', loss='binary_crossentropy', metrics=['accuracy'])"
   ]
  },
  {
   "cell_type": "code",
   "execution_count": 38,
   "metadata": {
    "colab": {
     "base_uri": "https://localhost:8080/",
     "height": 393
    },
    "id": "iLEvdaVsJ3d9",
    "outputId": "68d1f9fe-b3fe-43f1-bf69-b78e9b396552"
   },
   "outputs": [
    {
     "name": "stdout",
     "output_type": "stream",
     "text": [
      "Epoch 1/30\n",
      "59/59 [==============================] - 4s 23ms/step - loss: 0.4516 - accuracy: 0.9089 - val_loss: 0.1755 - val_accuracy: 0.9900\n",
      "Epoch 2/30\n",
      "59/59 [==============================] - 0s 7ms/step - loss: 0.1461 - accuracy: 0.9916 - val_loss: 0.1483 - val_accuracy: 0.9900\n",
      "Epoch 3/30\n",
      "59/59 [==============================] - 0s 7ms/step - loss: 0.1268 - accuracy: 0.9916 - val_loss: 0.1369 - val_accuracy: 0.9900\n",
      "Epoch 4/30\n",
      "59/59 [==============================] - 0s 7ms/step - loss: 0.1174 - accuracy: 0.9916 - val_loss: 0.1282 - val_accuracy: 0.9900\n",
      "Epoch 5/30\n",
      "59/59 [==============================] - 0s 6ms/step - loss: 0.1091 - accuracy: 0.9916 - val_loss: 0.1202 - val_accuracy: 0.9900\n",
      "Epoch 6/30\n",
      "59/59 [==============================] - 0s 6ms/step - loss: 0.1026 - accuracy: 0.9916 - val_loss: 0.1156 - val_accuracy: 0.9900\n",
      "Epoch 7/30\n",
      "59/59 [==============================] - 0s 7ms/step - loss: 0.0999 - accuracy: 0.9916 - val_loss: 0.1142 - val_accuracy: 0.9900\n",
      "Epoch 8/30\n",
      "59/59 [==============================] - 0s 7ms/step - loss: 0.0988 - accuracy: 0.9916 - val_loss: 0.1133 - val_accuracy: 0.9900\n",
      "Epoch 9/30\n",
      "59/59 [==============================] - 0s 8ms/step - loss: 0.0980 - accuracy: 0.9916 - val_loss: 0.1123 - val_accuracy: 0.9900\n",
      "Epoch 10/30\n",
      "59/59 [==============================] - 1s 8ms/step - loss: 0.0967 - accuracy: 0.9916 - val_loss: 0.1095 - val_accuracy: 0.9900\n",
      "Epoch 11/30\n",
      "59/59 [==============================] - 1s 9ms/step - loss: 0.0897 - accuracy: 0.9916 - val_loss: 0.0998 - val_accuracy: 0.9900\n",
      "Epoch 12/30\n",
      "59/59 [==============================] - 0s 7ms/step - loss: 0.0794 - accuracy: 0.9916 - val_loss: 0.0821 - val_accuracy: 0.9900\n",
      "Epoch 13/30\n",
      "59/59 [==============================] - 0s 8ms/step - loss: 0.0673 - accuracy: 0.9916 - val_loss: 0.0695 - val_accuracy: 0.9900\n",
      "Epoch 14/30\n",
      "59/59 [==============================] - 1s 11ms/step - loss: 0.0822 - accuracy: 0.9914 - val_loss: 0.1137 - val_accuracy: 0.9900\n",
      "Epoch 15/30\n",
      "59/59 [==============================] - 1s 9ms/step - loss: 0.0964 - accuracy: 0.9916 - val_loss: 0.1100 - val_accuracy: 0.9900\n",
      "Epoch 16/30\n",
      "59/59 [==============================] - 0s 6ms/step - loss: 0.0867 - accuracy: 0.9916 - val_loss: 0.0918 - val_accuracy: 0.9900\n",
      "Epoch 17/30\n",
      "59/59 [==============================] - 0s 7ms/step - loss: 0.0711 - accuracy: 0.9916 - val_loss: 0.0750 - val_accuracy: 0.9900\n",
      "Epoch 18/30\n",
      "59/59 [==============================] - 0s 7ms/step - loss: 0.0788 - accuracy: 0.9916 - val_loss: 0.0958 - val_accuracy: 0.9900\n",
      "Epoch 19/30\n",
      "59/59 [==============================] - 0s 6ms/step - loss: 0.0706 - accuracy: 0.9916 - val_loss: 0.0733 - val_accuracy: 0.9900\n",
      "Epoch 20/30\n",
      "59/59 [==============================] - 0s 7ms/step - loss: 0.0608 - accuracy: 0.9916 - val_loss: 0.0620 - val_accuracy: 0.9900\n",
      "Epoch 21/30\n",
      "59/59 [==============================] - 0s 8ms/step - loss: 0.0804 - accuracy: 0.9911 - val_loss: 0.0995 - val_accuracy: 0.9900\n",
      "Epoch 22/30\n",
      "59/59 [==============================] - 0s 6ms/step - loss: 0.0769 - accuracy: 0.9916 - val_loss: 0.0765 - val_accuracy: 0.9900\n",
      "Epoch 23/30\n",
      "59/59 [==============================] - 0s 6ms/step - loss: 0.0675 - accuracy: 0.9916 - val_loss: 0.0721 - val_accuracy: 0.9900\n",
      "Epoch 24/30\n",
      "59/59 [==============================] - 0s 6ms/step - loss: 0.0613 - accuracy: 0.9915 - val_loss: 0.0758 - val_accuracy: 0.9900\n",
      "Epoch 25/30\n",
      "59/59 [==============================] - 0s 7ms/step - loss: 0.0654 - accuracy: 0.9916 - val_loss: 0.0717 - val_accuracy: 0.9900\n",
      "Epoch 26/30\n",
      "59/59 [==============================] - 0s 8ms/step - loss: 0.0590 - accuracy: 0.9916 - val_loss: 0.0677 - val_accuracy: 0.9900\n",
      "Epoch 27/30\n",
      "59/59 [==============================] - 0s 7ms/step - loss: 0.0725 - accuracy: 0.9909 - val_loss: 0.1013 - val_accuracy: 0.9900\n",
      "Epoch 28/30\n",
      "59/59 [==============================] - 0s 6ms/step - loss: 0.0795 - accuracy: 0.9916 - val_loss: 0.0845 - val_accuracy: 0.9900\n",
      "Epoch 29/30\n",
      "59/59 [==============================] - 0s 7ms/step - loss: 0.0648 - accuracy: 0.9916 - val_loss: 0.0739 - val_accuracy: 0.9900\n",
      "Epoch 30/30\n",
      "59/59 [==============================] - 0s 6ms/step - loss: 0.0619 - accuracy: 0.9916 - val_loss: 0.0620 - val_accuracy: 0.9900\n"
     ]
    }
   ],
   "source": [
    "training = model.fit(x_train, y_train, epochs=30, batch_size=55, validation_split=0.2)"
   ]
  },
  {
   "cell_type": "code",
   "execution_count": 39,
   "metadata": {
    "id": "AbiUrBAibwZY"
   },
   "outputs": [
    {
     "name": "stdout",
     "output_type": "stream",
     "text": [
      "Loss value in the training phase during ANN is 0.06186436489224434\n",
      "Accuacy value during the training phase during ANN is 0.9915598630905151\n",
      "Val_loss in the training phase during ANN is 0.06203259900212288\n",
      "Val_acc value during the training phase during ANN is 0.9900000095367432\n"
     ]
    }
   ],
   "source": [
    "# Get the training loss and accuracy from the history object\n",
    "train_loss_ann = training.history['loss'][-1]  # Last epoch's training loss\n",
    "train_accuracy_ann = training.history['accuracy'][-1]  # Last epoch's training accuracy\n",
    "print('Loss value in the training phase during ANN is',train_loss_ann)\n",
    "print('Accuacy value during the training phase during ANN is',train_accuracy_ann)\n",
    "# Get the validation loss and accuracy from the history object\n",
    "val_loss_ann = training.history['val_loss'][-1]  # Last epoch's validation loss\n",
    "val_accuracy_ann = training.history['val_accuracy'][-1]  # Last epoch's validation accuracy\n",
    "print('Val_loss in the training phase during ANN is',val_loss_ann)\n",
    "print('Val_acc value during the training phase during ANN is',val_accuracy_ann)"
   ]
  },
  {
   "cell_type": "code",
   "execution_count": 40,
   "metadata": {
    "id": "-vdMruUgJ7SR"
   },
   "outputs": [
    {
     "name": "stdout",
     "output_type": "stream",
     "text": [
      "49/49 [==============================] - 0s 4ms/step - loss: 0.0660 - accuracy: 0.9895\n"
     ]
    }
   ],
   "source": [
    "test_loss_ann, test_accuracy_ann=model.evaluate(x_test,y_test,batch_size=55)"
   ]
  },
  {
   "cell_type": "code",
   "execution_count": 41,
   "metadata": {
    "id": "06kFxA_MbD2F"
   },
   "outputs": [
    {
     "name": "stdout",
     "output_type": "stream",
     "text": [
      "Test Loss in ANN: 0.06603840738534927\n",
      "Test Accuracy in ANN: 0.9895012974739075\n"
     ]
    }
   ],
   "source": [
    "print(\"Test Loss in ANN:\",test_loss_ann)\n",
    "print(\"Test Accuracy in ANN:\",test_accuracy_ann)"
   ]
  },
  {
   "cell_type": "code",
   "execution_count": 42,
   "metadata": {
    "id": "YKeKa6Yi-rSU"
   },
   "outputs": [],
   "source": [
    "model_1 = Sequential()"
   ]
  },
  {
   "cell_type": "code",
   "execution_count": 43,
   "metadata": {
    "id": "sAahHkn3_fDe"
   },
   "outputs": [
    {
     "name": "stdout",
     "output_type": "stream",
     "text": [
      "Model: \"sequential_1\"\n",
      "_________________________________________________________________\n",
      " Layer (type)                Output Shape              Param #   \n",
      "=================================================================\n",
      " lstm (LSTM)                 (None, 64)                16896     \n",
      "                                                                 \n",
      " dense_4 (Dense)             (None, 32)                2080      \n",
      "                                                                 \n",
      " dense_5 (Dense)             (None, 16)                528       \n",
      "                                                                 \n",
      " dense_6 (Dense)             (None, 1)                 17        \n",
      "                                                                 \n",
      "=================================================================\n",
      "Total params: 19,521\n",
      "Trainable params: 19,521\n",
      "Non-trainable params: 0\n",
      "_________________________________________________________________\n"
     ]
    }
   ],
   "source": [
    "# Input layer\n",
    "model_1.add(LSTM(units=64, activation='relu', input_shape=(x_train.shape[1], x_train.shape[2])))\n",
    "# Hidden layers\n",
    "model_1.add(Dense(units=32, activation='relu'))\n",
    "model_1.add(Dense(units=16, activation='relu'))\n",
    "# Output layer\n",
    "model_1.add(Dense(units=1, activation='sigmoid'))\n",
    "model_1.summary()"
   ]
  },
  {
   "cell_type": "code",
   "execution_count": 44,
   "metadata": {
    "id": "Uwycd62b_r13"
   },
   "outputs": [],
   "source": [
    "# Compile the model\n",
    "model_1.compile(optimizer='adam', loss='binary_crossentropy', metrics=['accuracy'])"
   ]
  },
  {
   "cell_type": "code",
   "execution_count": 45,
   "metadata": {
    "id": "8vtZdyuQ_zew"
   },
   "outputs": [
    {
     "name": "stdout",
     "output_type": "stream",
     "text": [
      "Epoch 1/30\n",
      "59/59 [==============================] - 6s 25ms/step - loss: 0.2588 - accuracy: 0.9269 - val_loss: 0.0451 - val_accuracy: 0.9900\n",
      "Epoch 2/30\n",
      "59/59 [==============================] - 1s 18ms/step - loss: 0.0365 - accuracy: 0.9919 - val_loss: 0.0409 - val_accuracy: 0.9900\n",
      "Epoch 3/30\n",
      "59/59 [==============================] - 1s 19ms/step - loss: 0.0370 - accuracy: 0.9916 - val_loss: 0.0418 - val_accuracy: 0.9900\n",
      "Epoch 4/30\n",
      "59/59 [==============================] - 1s 19ms/step - loss: 0.0337 - accuracy: 0.9919 - val_loss: 0.0381 - val_accuracy: 0.9937\n",
      "Epoch 5/30\n",
      "59/59 [==============================] - 1s 18ms/step - loss: 0.0397 - accuracy: 0.9903 - val_loss: 0.0385 - val_accuracy: 0.9862\n",
      "Epoch 6/30\n",
      "59/59 [==============================] - 1s 20ms/step - loss: 0.0319 - accuracy: 0.9906 - val_loss: 0.0390 - val_accuracy: 0.9900\n",
      "Epoch 7/30\n",
      "59/59 [==============================] - 1s 20ms/step - loss: 0.0246 - accuracy: 0.9909 - val_loss: 0.0384 - val_accuracy: 0.9912\n",
      "Epoch 8/30\n",
      "59/59 [==============================] - 1s 21ms/step - loss: 0.0249 - accuracy: 0.9919 - val_loss: 0.0456 - val_accuracy: 0.9900\n",
      "Epoch 9/30\n",
      "59/59 [==============================] - 1s 19ms/step - loss: 0.0225 - accuracy: 0.9919 - val_loss: 0.0454 - val_accuracy: 0.9900\n",
      "Epoch 10/30\n",
      "59/59 [==============================] - 1s 20ms/step - loss: 0.0218 - accuracy: 0.9909 - val_loss: 0.0492 - val_accuracy: 0.9887\n",
      "Epoch 11/30\n",
      "59/59 [==============================] - 1s 20ms/step - loss: 0.0211 - accuracy: 0.9931 - val_loss: 0.0366 - val_accuracy: 0.9912\n",
      "Epoch 12/30\n",
      "59/59 [==============================] - 1s 19ms/step - loss: 0.0218 - accuracy: 0.9912 - val_loss: 0.0578 - val_accuracy: 0.9850\n",
      "Epoch 13/30\n",
      "59/59 [==============================] - 1s 19ms/step - loss: 0.0212 - accuracy: 0.9931 - val_loss: 0.0362 - val_accuracy: 0.9887\n",
      "Epoch 14/30\n",
      "59/59 [==============================] - 1s 19ms/step - loss: 0.0268 - accuracy: 0.9922 - val_loss: 0.0342 - val_accuracy: 0.9925\n",
      "Epoch 15/30\n",
      "59/59 [==============================] - 1s 20ms/step - loss: 0.0249 - accuracy: 0.9922 - val_loss: 0.1206 - val_accuracy: 0.9900\n",
      "Epoch 16/30\n",
      "59/59 [==============================] - 1s 20ms/step - loss: 0.0439 - accuracy: 0.9906 - val_loss: 0.0370 - val_accuracy: 0.9912\n",
      "Epoch 17/30\n",
      "59/59 [==============================] - 1s 20ms/step - loss: 0.0325 - accuracy: 0.9903 - val_loss: 0.0567 - val_accuracy: 0.9800\n",
      "Epoch 18/30\n",
      "59/59 [==============================] - 2s 27ms/step - loss: 0.0357 - accuracy: 0.9928 - val_loss: 0.0670 - val_accuracy: 0.9925\n",
      "Epoch 19/30\n",
      "59/59 [==============================] - 2s 26ms/step - loss: 0.0349 - accuracy: 0.9900 - val_loss: 0.0369 - val_accuracy: 0.9937\n",
      "Epoch 20/30\n",
      "59/59 [==============================] - 1s 21ms/step - loss: 0.0273 - accuracy: 0.9909 - val_loss: 0.0486 - val_accuracy: 0.9887\n",
      "Epoch 21/30\n",
      "59/59 [==============================] - 2s 26ms/step - loss: 0.0291 - accuracy: 0.9931 - val_loss: 0.0462 - val_accuracy: 0.9937\n",
      "Epoch 22/30\n",
      "59/59 [==============================] - 1s 21ms/step - loss: 0.0260 - accuracy: 0.9928 - val_loss: 0.0377 - val_accuracy: 0.9937\n",
      "Epoch 23/30\n",
      "59/59 [==============================] - 2s 29ms/step - loss: 0.0242 - accuracy: 0.9916 - val_loss: 0.0475 - val_accuracy: 0.9950\n",
      "Epoch 24/30\n",
      "59/59 [==============================] - 1s 23ms/step - loss: 0.0233 - accuracy: 0.9934 - val_loss: 0.0345 - val_accuracy: 0.9950\n",
      "Epoch 25/30\n",
      "59/59 [==============================] - 1s 21ms/step - loss: 0.0222 - accuracy: 0.9909 - val_loss: 0.0411 - val_accuracy: 0.9925\n",
      "Epoch 26/30\n",
      "59/59 [==============================] - 1s 21ms/step - loss: 0.0216 - accuracy: 0.9928 - val_loss: 0.0468 - val_accuracy: 0.9875\n",
      "Epoch 27/30\n",
      "59/59 [==============================] - 2s 31ms/step - loss: 0.0202 - accuracy: 0.9941 - val_loss: 0.0438 - val_accuracy: 0.9912\n",
      "Epoch 28/30\n",
      "59/59 [==============================] - 1s 21ms/step - loss: 0.0347 - accuracy: 0.9916 - val_loss: 0.0454 - val_accuracy: 0.9912\n",
      "Epoch 29/30\n",
      "59/59 [==============================] - 2s 34ms/step - loss: 0.0282 - accuracy: 0.9916 - val_loss: 0.0527 - val_accuracy: 0.9887\n",
      "Epoch 30/30\n",
      "59/59 [==============================] - 2s 30ms/step - loss: 0.0234 - accuracy: 0.9916 - val_loss: 0.0570 - val_accuracy: 0.9887\n"
     ]
    }
   ],
   "source": [
    "training_1=model_1.fit(x_train, y_train, epochs=30, batch_size=55, validation_split=0.2)"
   ]
  },
  {
   "cell_type": "code",
   "execution_count": 46,
   "metadata": {
    "id": "eq11jB36_6L4"
   },
   "outputs": [
    {
     "name": "stdout",
     "output_type": "stream",
     "text": [
      "Loss value in the training phase during LSTM is 0.023442665114998817\n",
      "Accuacy value during the training phase during LSTM is 0.9915598630905151\n",
      "Val_loss in the training phase during LSTM is 0.05701003968715668\n",
      "Val_acc value during the training phase during LSTM is 0.9887499809265137\n"
     ]
    }
   ],
   "source": [
    "# Get the training loss and accuracy from the history object\n",
    "train_loss_lstm = training_1.history['loss'][-1]  # Last epoch's training loss\n",
    "train_accuracy_lstm = training_1.history['accuracy'][-1]  # Last epoch's training accuracy\n",
    "print('Loss value in the training phase during LSTM is',train_loss_lstm)\n",
    "print('Accuacy value during the training phase during LSTM is',train_accuracy_lstm)\n",
    "# Get the validation loss and accuracy from the history object\n",
    "val_loss_lstm = training_1.history['val_loss'][-1]  # Last epoch's validation loss\n",
    "val_accuracy_lstm = training_1.history['val_accuracy'][-1]  # Last epoch's validation accuracy\n",
    "print('Val_loss in the training phase during LSTM is',val_loss_lstm)\n",
    "print('Val_acc value during the training phase during LSTM is',val_accuracy_lstm)"
   ]
  },
  {
   "cell_type": "code",
   "execution_count": 47,
   "metadata": {
    "id": "SCrcuAHSAAom"
   },
   "outputs": [
    {
     "name": "stdout",
     "output_type": "stream",
     "text": [
      "49/49 [==============================] - 0s 9ms/step - loss: 0.0446 - accuracy: 0.9880\n"
     ]
    }
   ],
   "source": [
    "test_loss_lstm, test_accuracy_lstm=model_1.evaluate(x_test,y_test,batch_size=55)"
   ]
  },
  {
   "cell_type": "code",
   "execution_count": 48,
   "metadata": {
    "id": "3x7Uys93AD01"
   },
   "outputs": [
    {
     "name": "stdout",
     "output_type": "stream",
     "text": [
      "Test Loss in LSTM: 0.044635094702243805\n",
      "Test Accuracy in LSTM: 0.9880015254020691\n"
     ]
    }
   ],
   "source": [
    "print(\"Test Loss in LSTM:\",test_loss_lstm)\n",
    "print(\"Test Accuracy in LSTM:\",test_accuracy_lstm)"
   ]
  },
  {
   "cell_type": "code",
   "execution_count": 49,
   "metadata": {
    "id": "k5I9BMXcAI9i"
   },
   "outputs": [],
   "source": [
    "model_2 = Sequential()"
   ]
  },
  {
   "cell_type": "code",
   "execution_count": 50,
   "metadata": {
    "id": "eeYzFN7mATJM"
   },
   "outputs": [
    {
     "name": "stdout",
     "output_type": "stream",
     "text": [
      "Model: \"sequential_2\"\n",
      "_________________________________________________________________\n",
      " Layer (type)                Output Shape              Param #   \n",
      "=================================================================\n",
      " gru (GRU)                   (None, 64)                12864     \n",
      "                                                                 \n",
      " dense_7 (Dense)             (None, 32)                2080      \n",
      "                                                                 \n",
      " dense_8 (Dense)             (None, 16)                528       \n",
      "                                                                 \n",
      " dense_9 (Dense)             (None, 1)                 17        \n",
      "                                                                 \n",
      "=================================================================\n",
      "Total params: 15,489\n",
      "Trainable params: 15,489\n",
      "Non-trainable params: 0\n",
      "_________________________________________________________________\n"
     ]
    }
   ],
   "source": [
    "model_2.add(GRU(units=64,activation='relu',input_shape=input_shape))\n",
    "#Adding hidden layers\n",
    "model_2.add(Dense(units=32,activation='relu'))\n",
    "model_2.add(Dense(units=16,activation='relu'))\n",
    "#Adding output layer\n",
    "model_2.add(Dense(units=1,activation='sigmoid'))\n",
    "model_2.summary()"
   ]
  },
  {
   "cell_type": "code",
   "execution_count": 51,
   "metadata": {
    "id": "7OyR9oq3Aol7"
   },
   "outputs": [],
   "source": [
    "# Compile the model\n",
    "model_2.compile(optimizer='adam', loss='binary_crossentropy', metrics=['accuracy'])"
   ]
  },
  {
   "cell_type": "code",
   "execution_count": 52,
   "metadata": {
    "id": "Z7U-9yJIAp5H"
   },
   "outputs": [
    {
     "name": "stdout",
     "output_type": "stream",
     "text": [
      "Epoch 1/30\n",
      "59/59 [==============================] - 7s 25ms/step - loss: 0.2162 - accuracy: 0.9490 - val_loss: 0.0473 - val_accuracy: 0.9937\n",
      "Epoch 2/30\n",
      "59/59 [==============================] - 1s 20ms/step - loss: 0.0454 - accuracy: 0.9912 - val_loss: 0.0537 - val_accuracy: 0.9850\n",
      "Epoch 3/30\n",
      "59/59 [==============================] - 1s 25ms/step - loss: 0.0385 - accuracy: 0.9900 - val_loss: 0.0483 - val_accuracy: 0.9900\n",
      "Epoch 4/30\n",
      "59/59 [==============================] - 1s 16ms/step - loss: 0.0370 - accuracy: 0.9909 - val_loss: 0.0423 - val_accuracy: 0.9900\n",
      "Epoch 5/30\n",
      "59/59 [==============================] - 1s 22ms/step - loss: 0.0433 - accuracy: 0.9903 - val_loss: 0.0508 - val_accuracy: 0.9850\n",
      "Epoch 6/30\n",
      "59/59 [==============================] - 1s 23ms/step - loss: 0.0427 - accuracy: 0.9916 - val_loss: 0.0618 - val_accuracy: 0.9900\n",
      "Epoch 7/30\n",
      "59/59 [==============================] - 2s 26ms/step - loss: 0.0335 - accuracy: 0.9919 - val_loss: 0.0637 - val_accuracy: 0.9800\n",
      "Epoch 8/30\n",
      "59/59 [==============================] - 2s 26ms/step - loss: 0.0394 - accuracy: 0.9887 - val_loss: 0.0466 - val_accuracy: 0.9875\n",
      "Epoch 9/30\n",
      "59/59 [==============================] - 1s 25ms/step - loss: 0.0285 - accuracy: 0.9909 - val_loss: 0.0505 - val_accuracy: 0.9887\n",
      "Epoch 10/30\n",
      "59/59 [==============================] - 1s 21ms/step - loss: 0.0321 - accuracy: 0.9925 - val_loss: 0.0522 - val_accuracy: 0.9900\n",
      "Epoch 11/30\n",
      "59/59 [==============================] - 2s 27ms/step - loss: 0.0332 - accuracy: 0.9909 - val_loss: 0.0518 - val_accuracy: 0.9837\n",
      "Epoch 12/30\n",
      "59/59 [==============================] - 1s 22ms/step - loss: 0.0327 - accuracy: 0.9916 - val_loss: 0.0744 - val_accuracy: 0.9900\n",
      "Epoch 13/30\n",
      "59/59 [==============================] - 1s 21ms/step - loss: 0.0375 - accuracy: 0.9916 - val_loss: 0.0526 - val_accuracy: 0.9875\n",
      "Epoch 14/30\n",
      "59/59 [==============================] - 1s 24ms/step - loss: 0.0401 - accuracy: 0.9906 - val_loss: 0.0462 - val_accuracy: 0.9900\n",
      "Epoch 15/30\n",
      "59/59 [==============================] - 1s 19ms/step - loss: 0.0344 - accuracy: 0.9919 - val_loss: 0.0550 - val_accuracy: 0.9862\n",
      "Epoch 16/30\n",
      "59/59 [==============================] - 1s 20ms/step - loss: 0.0429 - accuracy: 0.9912 - val_loss: 0.0478 - val_accuracy: 0.9912\n",
      "Epoch 17/30\n",
      "59/59 [==============================] - 1s 22ms/step - loss: 0.0325 - accuracy: 0.9909 - val_loss: 0.0467 - val_accuracy: 0.9875\n",
      "Epoch 18/30\n",
      "59/59 [==============================] - 1s 22ms/step - loss: 0.0278 - accuracy: 0.9916 - val_loss: 0.0450 - val_accuracy: 0.9887\n",
      "Epoch 19/30\n",
      "59/59 [==============================] - 2s 29ms/step - loss: 0.0294 - accuracy: 0.9912 - val_loss: 0.0456 - val_accuracy: 0.9900\n",
      "Epoch 20/30\n",
      "59/59 [==============================] - 1s 20ms/step - loss: 0.0283 - accuracy: 0.9916 - val_loss: 0.0469 - val_accuracy: 0.9925\n",
      "Epoch 21/30\n",
      "59/59 [==============================] - 1s 25ms/step - loss: 0.0307 - accuracy: 0.9912 - val_loss: 0.0499 - val_accuracy: 0.9887\n",
      "Epoch 22/30\n",
      "59/59 [==============================] - 1s 21ms/step - loss: 0.0264 - accuracy: 0.9919 - val_loss: 0.0601 - val_accuracy: 0.9850\n",
      "Epoch 23/30\n",
      "59/59 [==============================] - 1s 20ms/step - loss: 0.0432 - accuracy: 0.9897 - val_loss: 0.0502 - val_accuracy: 0.9900\n",
      "Epoch 24/30\n",
      "59/59 [==============================] - 1s 21ms/step - loss: 0.0278 - accuracy: 0.9919 - val_loss: 0.0485 - val_accuracy: 0.9912\n",
      "Epoch 25/30\n",
      "59/59 [==============================] - 1s 19ms/step - loss: 0.0313 - accuracy: 0.9925 - val_loss: 0.0569 - val_accuracy: 0.9900\n",
      "Epoch 26/30\n",
      "59/59 [==============================] - 1s 18ms/step - loss: 0.0321 - accuracy: 0.9916 - val_loss: 0.0446 - val_accuracy: 0.9900\n",
      "Epoch 27/30\n",
      "59/59 [==============================] - 1s 20ms/step - loss: 0.0304 - accuracy: 0.9912 - val_loss: 0.0456 - val_accuracy: 0.9912\n",
      "Epoch 28/30\n",
      "59/59 [==============================] - 1s 22ms/step - loss: 0.0269 - accuracy: 0.9919 - val_loss: 0.0406 - val_accuracy: 0.9900\n",
      "Epoch 29/30\n",
      "59/59 [==============================] - 1s 24ms/step - loss: 0.0257 - accuracy: 0.9919 - val_loss: 0.0532 - val_accuracy: 0.9900\n",
      "Epoch 30/30\n",
      "59/59 [==============================] - 1s 17ms/step - loss: 0.0246 - accuracy: 0.9916 - val_loss: 0.0609 - val_accuracy: 0.9900\n"
     ]
    }
   ],
   "source": [
    "training_2=model_2.fit(x_train, y_train, epochs=30, batch_size=55, validation_split=0.2)"
   ]
  },
  {
   "cell_type": "code",
   "execution_count": 53,
   "metadata": {
    "id": "oReqZeDKAxba"
   },
   "outputs": [
    {
     "name": "stdout",
     "output_type": "stream",
     "text": [
      "Loss value in the training phase during GRU is 0.024599583819508553\n",
      "Accuacy value during the training phase during GRU is 0.9915598630905151\n",
      "Val_loss in the training phase during GRU is 0.06089925393462181\n",
      "Val_acc value during the training phase during GRU is 0.9900000095367432\n"
     ]
    }
   ],
   "source": [
    "# Get the training loss and accuracy from the history object\n",
    "train_loss_gru = training_2.history['loss'][-1]  # Last epoch's training loss\n",
    "train_accuracy_gru = training_2.history['accuracy'][-1]  # Last epoch's training accuracy\n",
    "print('Loss value in the training phase during GRU is',train_loss_gru)\n",
    "print('Accuacy value during the training phase during GRU is',train_accuracy_gru)\n",
    "# Get the validation loss and accuracy from the history object\n",
    "val_loss_gru = training_2.history['val_loss'][-1]  # Last epoch's validation loss\n",
    "val_accuracy_gru = training_2.history['val_accuracy'][-1]  # Last epoch's validation accuracy\n",
    "print('Val_loss in the training phase during GRU is',val_loss_gru)\n",
    "print('Val_acc value during the training phase during GRU is',val_accuracy_gru)"
   ]
  },
  {
   "cell_type": "code",
   "execution_count": 54,
   "metadata": {
    "id": "9S_rEwOjA3yg"
   },
   "outputs": [
    {
     "name": "stdout",
     "output_type": "stream",
     "text": [
      "49/49 [==============================] - 0s 9ms/step - loss: 0.0670 - accuracy: 0.9895\n"
     ]
    }
   ],
   "source": [
    "test_loss_gru, test_accuracy_gru=model_2.evaluate(x_test,y_test,batch_size=55)"
   ]
  },
  {
   "cell_type": "code",
   "execution_count": 55,
   "metadata": {
    "id": "_RBW88OEBB3n"
   },
   "outputs": [
    {
     "name": "stdout",
     "output_type": "stream",
     "text": [
      "Test Loss in GRU: 0.06703014671802521\n",
      "Test Accuracy in GRU: 0.9895012974739075\n"
     ]
    }
   ],
   "source": [
    "print(\"Test Loss in GRU:\",test_loss_gru)\n",
    "print(\"Test Accuracy in GRU:\",test_accuracy_gru)"
   ]
  },
  {
   "cell_type": "code",
   "execution_count": 56,
   "metadata": {
    "id": "Iz3wIDuyBGPf"
   },
   "outputs": [],
   "source": [
    "model_3=Sequential()"
   ]
  },
  {
   "cell_type": "code",
   "execution_count": 57,
   "metadata": {
    "id": "62HEWVoMBK5F"
   },
   "outputs": [
    {
     "name": "stdout",
     "output_type": "stream",
     "text": [
      "Model: \"sequential_3\"\n",
      "_________________________________________________________________\n",
      " Layer (type)                Output Shape              Param #   \n",
      "=================================================================\n",
      " simple_rnn (SimpleRNN)      (None, 64)                4224      \n",
      "                                                                 \n",
      " dense_10 (Dense)            (None, 32)                2080      \n",
      "                                                                 \n",
      " dense_11 (Dense)            (None, 16)                528       \n",
      "                                                                 \n",
      " dense_12 (Dense)            (None, 1)                 17        \n",
      "                                                                 \n",
      "=================================================================\n",
      "Total params: 6,849\n",
      "Trainable params: 6,849\n",
      "Non-trainable params: 0\n",
      "_________________________________________________________________\n"
     ]
    }
   ],
   "source": [
    "# Input layer\n",
    "model_3.add(SimpleRNN(units=64, activation='relu', input_shape=input_shape))\n",
    "# Hidden layers\n",
    "model_3.add(Dense(units=32, activation='relu'))\n",
    "model_3.add(Dense(units=16, activation='relu'))\n",
    "# Output layer\n",
    "model_3.add(Dense(units=1, activation='sigmoid'))\n",
    "model_3.summary()"
   ]
  },
  {
   "cell_type": "code",
   "execution_count": 58,
   "metadata": {
    "id": "stumyA6WBP7z"
   },
   "outputs": [],
   "source": [
    "model_3.compile(optimizer='adam', loss='binary_crossentropy', metrics=['accuracy'])"
   ]
  },
  {
   "cell_type": "code",
   "execution_count": 59,
   "metadata": {
    "id": "sVxpOLGPBTnT"
   },
   "outputs": [
    {
     "name": "stdout",
     "output_type": "stream",
     "text": [
      "Epoch 1/30\n",
      "39/39 [==============================] - 5s 30ms/step - loss: 0.0928 - accuracy: 0.9873 - val_loss: 0.0265 - val_accuracy: 0.9963\n",
      "Epoch 2/30\n",
      "39/39 [==============================] - 0s 11ms/step - loss: 0.0812 - accuracy: 0.9845 - val_loss: 0.0392 - val_accuracy: 0.9963\n",
      "Epoch 3/30\n",
      "39/39 [==============================] - 0s 10ms/step - loss: 0.0666 - accuracy: 0.9869 - val_loss: 0.0352 - val_accuracy: 0.9963\n",
      "Epoch 4/30\n",
      "39/39 [==============================] - 0s 10ms/step - loss: 0.0523 - accuracy: 0.9864 - val_loss: 0.0247 - val_accuracy: 0.9963\n",
      "Epoch 5/30\n",
      "39/39 [==============================] - 0s 10ms/step - loss: 0.0483 - accuracy: 0.9902 - val_loss: 0.0403 - val_accuracy: 0.9925\n",
      "Epoch 6/30\n",
      "39/39 [==============================] - 0s 11ms/step - loss: 0.0470 - accuracy: 0.9873 - val_loss: 0.0322 - val_accuracy: 0.9944\n",
      "Epoch 7/30\n",
      "39/39 [==============================] - 0s 11ms/step - loss: 0.0493 - accuracy: 0.9873 - val_loss: 0.0353 - val_accuracy: 0.9944\n",
      "Epoch 8/30\n",
      "39/39 [==============================] - 1s 13ms/step - loss: 0.0471 - accuracy: 0.9878 - val_loss: 0.0396 - val_accuracy: 0.9869\n",
      "Epoch 9/30\n",
      "39/39 [==============================] - 0s 10ms/step - loss: 0.0477 - accuracy: 0.9869 - val_loss: 0.0349 - val_accuracy: 0.9944\n",
      "Epoch 10/30\n",
      "39/39 [==============================] - 0s 10ms/step - loss: 0.0443 - accuracy: 0.9887 - val_loss: 0.0315 - val_accuracy: 0.9906\n",
      "Epoch 11/30\n",
      "39/39 [==============================] - 0s 11ms/step - loss: 0.0456 - accuracy: 0.9892 - val_loss: 0.0342 - val_accuracy: 0.9944\n",
      "Epoch 12/30\n",
      "39/39 [==============================] - 0s 10ms/step - loss: 0.0397 - accuracy: 0.9887 - val_loss: 0.0291 - val_accuracy: 0.9925\n",
      "Epoch 13/30\n",
      "39/39 [==============================] - 0s 10ms/step - loss: 0.0387 - accuracy: 0.9883 - val_loss: 0.0325 - val_accuracy: 0.9925\n",
      "Epoch 14/30\n",
      "39/39 [==============================] - 0s 10ms/step - loss: 0.0467 - accuracy: 0.9873 - val_loss: 0.0306 - val_accuracy: 0.9963\n",
      "Epoch 15/30\n",
      "39/39 [==============================] - 0s 10ms/step - loss: 0.0362 - accuracy: 0.9892 - val_loss: 0.0401 - val_accuracy: 0.9906\n",
      "Epoch 16/30\n",
      "39/39 [==============================] - 0s 10ms/step - loss: 0.0418 - accuracy: 0.9897 - val_loss: 0.0334 - val_accuracy: 0.9944\n",
      "Epoch 17/30\n",
      "39/39 [==============================] - 0s 10ms/step - loss: 0.0450 - accuracy: 0.9892 - val_loss: 0.0323 - val_accuracy: 0.9963\n",
      "Epoch 18/30\n",
      "39/39 [==============================] - 1s 14ms/step - loss: 0.0463 - accuracy: 0.9897 - val_loss: 0.0404 - val_accuracy: 0.9963\n",
      "Epoch 19/30\n",
      "39/39 [==============================] - 0s 10ms/step - loss: 0.0521 - accuracy: 0.9892 - val_loss: 0.0539 - val_accuracy: 0.9831\n",
      "Epoch 20/30\n",
      "39/39 [==============================] - 0s 10ms/step - loss: 0.0464 - accuracy: 0.9873 - val_loss: 0.0420 - val_accuracy: 0.9888\n",
      "Epoch 21/30\n",
      "39/39 [==============================] - 0s 10ms/step - loss: 0.0440 - accuracy: 0.9864 - val_loss: 0.0281 - val_accuracy: 0.9944\n",
      "Epoch 22/30\n",
      "39/39 [==============================] - 0s 10ms/step - loss: 0.0418 - accuracy: 0.9878 - val_loss: 0.0291 - val_accuracy: 0.9963\n",
      "Epoch 23/30\n",
      "39/39 [==============================] - 0s 11ms/step - loss: 0.0379 - accuracy: 0.9869 - val_loss: 0.0337 - val_accuracy: 0.9963\n",
      "Epoch 24/30\n",
      "39/39 [==============================] - 0s 13ms/step - loss: 0.0373 - accuracy: 0.9892 - val_loss: 0.0430 - val_accuracy: 0.9869\n",
      "Epoch 25/30\n",
      "39/39 [==============================] - 1s 14ms/step - loss: 0.0402 - accuracy: 0.9887 - val_loss: 0.0386 - val_accuracy: 0.9869\n",
      "Epoch 26/30\n",
      "39/39 [==============================] - 1s 15ms/step - loss: 0.0349 - accuracy: 0.9887 - val_loss: 0.0384 - val_accuracy: 0.9869\n",
      "Epoch 27/30\n",
      "39/39 [==============================] - 0s 11ms/step - loss: 0.0383 - accuracy: 0.9897 - val_loss: 0.0422 - val_accuracy: 0.9906\n",
      "Epoch 28/30\n",
      "39/39 [==============================] - 0s 8ms/step - loss: 0.0341 - accuracy: 0.9887 - val_loss: 0.0368 - val_accuracy: 0.9888\n",
      "Epoch 29/30\n",
      "39/39 [==============================] - 0s 10ms/step - loss: 0.0361 - accuracy: 0.9897 - val_loss: 0.0363 - val_accuracy: 0.9925\n",
      "Epoch 30/30\n",
      "39/39 [==============================] - 1s 15ms/step - loss: 0.0361 - accuracy: 0.9878 - val_loss: 0.0329 - val_accuracy: 0.9925\n"
     ]
    }
   ],
   "source": [
    "training_3=model_3.fit(x_test,y_test,epochs=30,batch_size=55,validation_split=0.2)"
   ]
  },
  {
   "cell_type": "code",
   "execution_count": 60,
   "metadata": {
    "id": "kPn7bm-YBZM0"
   },
   "outputs": [
    {
     "name": "stdout",
     "output_type": "stream",
     "text": [
      "Loss value in the training phase during RNN is 0.03612528741359711\n",
      "Accuacy value during the training phase during RNN is 0.9878106117248535\n",
      "Val_loss in the training phase during RNN is 0.03285655751824379\n",
      "Val_acc value during the training phase during RNN is 0.9925093650817871\n"
     ]
    }
   ],
   "source": [
    "# Get the training loss and accuracy from the history object\n",
    "train_loss_rnn = training_3.history['loss'][-1]  # Last epoch's training loss\n",
    "train_accuracy_rnn = training_3.history['accuracy'][-1]  # Last epoch's training accuracy\n",
    "print('Loss value in the training phase during RNN is',train_loss_rnn)\n",
    "print('Accuacy value during the training phase during RNN is',train_accuracy_rnn)\n",
    "# Get the validation loss and accuracy from the history object\n",
    "val_loss_rnn = training_3.history['val_loss'][-1]  # Last epoch's validation loss\n",
    "val_accuracy_rnn = training_3.history['val_accuracy'][-1]  # Last epoch's validation accuracy\n",
    "print('Val_loss in the training phase during RNN is',val_loss_rnn)\n",
    "print('Val_acc value during the training phase during RNN is',val_accuracy_rnn)"
   ]
  },
  {
   "cell_type": "code",
   "execution_count": 61,
   "metadata": {
    "id": "z2PxOc5VBe1a"
   },
   "outputs": [
    {
     "name": "stdout",
     "output_type": "stream",
     "text": [
      "49/49 [==============================] - 0s 7ms/step - loss: 0.0293 - accuracy: 0.9906\n"
     ]
    }
   ],
   "source": [
    "test_loss_rnn, test_accuracy_rnn=model_3.evaluate(x_test,y_test,batch_size=55)"
   ]
  },
  {
   "cell_type": "code",
   "execution_count": 62,
   "metadata": {
    "id": "KezYcm4_Biy-"
   },
   "outputs": [
    {
     "name": "stdout",
     "output_type": "stream",
     "text": [
      "Test Loss in RNN: 0.02928617037832737\n",
      "Test Accuracy in RNN: 0.9906261563301086\n"
     ]
    }
   ],
   "source": [
    "print(\"Test Loss in RNN:\",test_loss_rnn)\n",
    "print(\"Test Accuracy in RNN:\",test_accuracy_rnn)"
   ]
  },
  {
   "cell_type": "code",
   "execution_count": 63,
   "metadata": {
    "id": "vE3xvr-bBnxm"
   },
   "outputs": [],
   "source": [
    "model_4=Sequential()"
   ]
  },
  {
   "cell_type": "code",
   "execution_count": 64,
   "metadata": {
    "id": "4sv7PiCtBruq"
   },
   "outputs": [
    {
     "name": "stdout",
     "output_type": "stream",
     "text": [
      "Model: \"sequential_4\"\n",
      "_________________________________________________________________\n",
      " Layer (type)                Output Shape              Param #   \n",
      "=================================================================\n",
      " lstm_1 (LSTM)               (None, 10, 64)            16896     \n",
      "                                                                 \n",
      " lstm_2 (LSTM)               (None, 64)                33024     \n",
      "                                                                 \n",
      " dense_13 (Dense)            (None, 32)                2080      \n",
      "                                                                 \n",
      " dense_14 (Dense)            (None, 16)                528       \n",
      "                                                                 \n",
      " dense_15 (Dense)            (None, 1)                 17        \n",
      "                                                                 \n",
      "=================================================================\n",
      "Total params: 52,545\n",
      "Trainable params: 52,545\n",
      "Non-trainable params: 0\n",
      "_________________________________________________________________\n"
     ]
    }
   ],
   "source": [
    "model_4.add(LSTM(units=64, activation='relu', input_shape=input_shape, return_sequences=True))\n",
    "model_4.add(LSTM(units=64, activation='relu'))\n",
    "model_4.add(Dense(units=32, activation='relu'))\n",
    "model_4.add(Dense(units=16, activation='relu'))\n",
    "model_4.add(Dense(units=1, activation='sigmoid'))\n",
    "model_4.summary()"
   ]
  },
  {
   "cell_type": "code",
   "execution_count": 65,
   "metadata": {
    "id": "6v1_vYDWBxiT"
   },
   "outputs": [],
   "source": [
    "model_4.compile(optimizer='adam',loss='binary_crossentropy',metrics=['accuracy'])"
   ]
  },
  {
   "cell_type": "code",
   "execution_count": 66,
   "metadata": {
    "id": "-D2ibVFRB1ts"
   },
   "outputs": [
    {
     "name": "stdout",
     "output_type": "stream",
     "text": [
      "Epoch 1/30\n",
      "59/59 [==============================] - 18s 66ms/step - loss: 0.0940 - accuracy: 0.9884 - val_loss: 0.0735 - val_accuracy: 0.9900\n",
      "Epoch 2/30\n",
      "59/59 [==============================] - 2s 35ms/step - loss: 0.0547 - accuracy: 0.9900 - val_loss: 0.0382 - val_accuracy: 0.9912\n",
      "Epoch 3/30\n",
      "59/59 [==============================] - 2s 34ms/step - loss: 0.0381 - accuracy: 0.9906 - val_loss: 0.0445 - val_accuracy: 0.9875\n",
      "Epoch 4/30\n",
      "59/59 [==============================] - 2s 35ms/step - loss: 0.0393 - accuracy: 0.9903 - val_loss: 0.0405 - val_accuracy: 0.9900\n",
      "Epoch 5/30\n",
      "59/59 [==============================] - 3s 47ms/step - loss: 0.0380 - accuracy: 0.9922 - val_loss: 0.0383 - val_accuracy: 0.9900\n",
      "Epoch 6/30\n",
      "59/59 [==============================] - 2s 36ms/step - loss: 0.0271 - accuracy: 0.9916 - val_loss: 0.0460 - val_accuracy: 0.9900\n",
      "Epoch 7/30\n",
      "59/59 [==============================] - 2s 38ms/step - loss: 0.0280 - accuracy: 0.9916 - val_loss: 0.0351 - val_accuracy: 0.9937\n",
      "Epoch 8/30\n",
      "59/59 [==============================] - 2s 39ms/step - loss: 0.0272 - accuracy: 0.9919 - val_loss: 0.0344 - val_accuracy: 0.9900\n",
      "Epoch 9/30\n",
      "59/59 [==============================] - 2s 41ms/step - loss: 0.0311 - accuracy: 0.9912 - val_loss: 0.0393 - val_accuracy: 0.9900\n",
      "Epoch 10/30\n",
      "59/59 [==============================] - 2s 35ms/step - loss: 0.0349 - accuracy: 0.9909 - val_loss: 0.0423 - val_accuracy: 0.9900\n",
      "Epoch 11/30\n",
      "59/59 [==============================] - 2s 36ms/step - loss: 0.0303 - accuracy: 0.9916 - val_loss: 0.0358 - val_accuracy: 0.9900\n",
      "Epoch 12/30\n",
      "59/59 [==============================] - 2s 33ms/step - loss: 0.0272 - accuracy: 0.9922 - val_loss: 0.0330 - val_accuracy: 0.9925\n",
      "Epoch 13/30\n",
      "59/59 [==============================] - 2s 32ms/step - loss: 0.0279 - accuracy: 0.9897 - val_loss: 0.0343 - val_accuracy: 0.9912\n",
      "Epoch 14/30\n",
      "59/59 [==============================] - 2s 34ms/step - loss: 0.0511 - accuracy: 0.9916 - val_loss: 0.0613 - val_accuracy: 0.9900\n",
      "Epoch 15/30\n",
      "59/59 [==============================] - 2s 33ms/step - loss: 0.0378 - accuracy: 0.9916 - val_loss: 0.0431 - val_accuracy: 0.9900\n",
      "Epoch 16/30\n",
      "59/59 [==============================] - 2s 33ms/step - loss: 0.0280 - accuracy: 0.9919 - val_loss: 0.0372 - val_accuracy: 0.9912\n",
      "Epoch 17/30\n",
      "59/59 [==============================] - 2s 32ms/step - loss: 0.0253 - accuracy: 0.9925 - val_loss: 0.0457 - val_accuracy: 0.9900\n",
      "Epoch 18/30\n",
      "59/59 [==============================] - 2s 33ms/step - loss: 0.0254 - accuracy: 0.9922 - val_loss: 0.0580 - val_accuracy: 0.9900\n",
      "Epoch 19/30\n",
      "59/59 [==============================] - 2s 33ms/step - loss: 0.0228 - accuracy: 0.9934 - val_loss: 0.0343 - val_accuracy: 0.9912\n",
      "Epoch 20/30\n",
      "59/59 [==============================] - 2s 33ms/step - loss: 0.0220 - accuracy: 0.9916 - val_loss: 0.0380 - val_accuracy: 0.9900\n",
      "Epoch 21/30\n",
      "59/59 [==============================] - 2s 31ms/step - loss: 0.0194 - accuracy: 0.9919 - val_loss: 0.0698 - val_accuracy: 0.9900\n",
      "Epoch 22/30\n",
      "59/59 [==============================] - 2s 34ms/step - loss: 0.0209 - accuracy: 0.9922 - val_loss: 0.0517 - val_accuracy: 0.9900\n",
      "Epoch 23/30\n",
      "59/59 [==============================] - 2s 34ms/step - loss: 0.0180 - accuracy: 0.9928 - val_loss: 0.0407 - val_accuracy: 0.9887\n",
      "Epoch 24/30\n",
      "59/59 [==============================] - 2s 33ms/step - loss: 0.0222 - accuracy: 0.9919 - val_loss: 0.0396 - val_accuracy: 0.9900\n",
      "Epoch 25/30\n",
      "59/59 [==============================] - 2s 34ms/step - loss: 0.0199 - accuracy: 0.9925 - val_loss: 0.0369 - val_accuracy: 0.9912\n",
      "Epoch 26/30\n",
      "59/59 [==============================] - 2s 33ms/step - loss: 0.0204 - accuracy: 0.9928 - val_loss: 0.0331 - val_accuracy: 0.9900\n",
      "Epoch 27/30\n",
      "59/59 [==============================] - 2s 32ms/step - loss: 0.0184 - accuracy: 0.9906 - val_loss: 0.0424 - val_accuracy: 0.9900\n",
      "Epoch 28/30\n",
      "59/59 [==============================] - 2s 34ms/step - loss: 0.0199 - accuracy: 0.9925 - val_loss: 0.0319 - val_accuracy: 0.9925\n",
      "Epoch 29/30\n",
      "59/59 [==============================] - 2s 33ms/step - loss: 0.0175 - accuracy: 0.9925 - val_loss: 0.0412 - val_accuracy: 0.9925\n",
      "Epoch 30/30\n",
      "59/59 [==============================] - 2s 34ms/step - loss: 0.0164 - accuracy: 0.9931 - val_loss: 0.0420 - val_accuracy: 0.9900\n"
     ]
    }
   ],
   "source": [
    "training_4=model_4.fit(x_train,y_train,epochs=30,batch_size=55,validation_split=0.2)"
   ]
  },
  {
   "cell_type": "code",
   "execution_count": 67,
   "metadata": {
    "id": "24XaH_LyCABq"
   },
   "outputs": [
    {
     "name": "stdout",
     "output_type": "stream",
     "text": [
      "Loss value in the training phase during Dual LSTM is 0.016391150653362274\n",
      "Accuacy value during the training phase during Dual LSTM is 0.9931228756904602\n",
      "Val_loss in the training phase during Dual LSTM is 0.04197941720485687\n",
      "Val_acc value during the training phase during Dual LSTM is 0.9900000095367432\n"
     ]
    }
   ],
   "source": [
    "# Get the training loss and accuracy from the history object\n",
    "train_loss_dual_lstm = training_4.history['loss'][-1]  # Last epoch's training loss\n",
    "train_accuracy_dual_lstm = training_4.history['accuracy'][-1]  # Last epoch's training accuracy\n",
    "print('Loss value in the training phase during Dual LSTM is',train_loss_dual_lstm)\n",
    "print('Accuacy value during the training phase during Dual LSTM is',train_accuracy_dual_lstm)\n",
    "# Get the validation loss and accuracy from the history object\n",
    "val_loss_dual_lstm = training_4.history['val_loss'][-1]  # Last epoch's validation loss\n",
    "val_accuracy_dual_lstm = training_4.history['val_accuracy'][-1]  # Last epoch's validation accuracy\n",
    "print('Val_loss in the training phase during Dual LSTM is',val_loss_dual_lstm)\n",
    "print('Val_acc value during the training phase during Dual LSTM is',val_accuracy_dual_lstm)"
   ]
  },
  {
   "cell_type": "code",
   "execution_count": 68,
   "metadata": {
    "id": "LI6LL3u_CFZp"
   },
   "outputs": [
    {
     "name": "stdout",
     "output_type": "stream",
     "text": [
      "49/49 [==============================] - 1s 13ms/step - loss: 0.0399 - accuracy: 0.9903\n"
     ]
    }
   ],
   "source": [
    "test_loss_dual_lstm, test_accuracy_dual_lstm=model_4.evaluate(x_test,y_test,batch_size=55)"
   ]
  },
  {
   "cell_type": "code",
   "execution_count": 69,
   "metadata": {
    "id": "potG_2YlCKOz"
   },
   "outputs": [
    {
     "name": "stdout",
     "output_type": "stream",
     "text": [
      "Test Loss in Dual_LSTM: 0.039879947900772095\n",
      "Test Accuracy in Dual_LSTM: 0.9902512431144714\n"
     ]
    }
   ],
   "source": [
    "print(\"Test Loss in Dual_LSTM:\",test_loss_dual_lstm)\n",
    "print(\"Test Accuracy in Dual_LSTM:\",test_accuracy_dual_lstm)"
   ]
  },
  {
   "cell_type": "code",
   "execution_count": 70,
   "metadata": {
    "id": "dCc4tcUHCPwV"
   },
   "outputs": [],
   "source": [
    "model_5=Sequential()"
   ]
  },
  {
   "cell_type": "code",
   "execution_count": 71,
   "metadata": {
    "id": "BIdosQ_0CTQF"
   },
   "outputs": [
    {
     "name": "stdout",
     "output_type": "stream",
     "text": [
      "Model: \"sequential_5\"\n",
      "_________________________________________________________________\n",
      " Layer (type)                Output Shape              Param #   \n",
      "=================================================================\n",
      " gru_1 (GRU)                 (None, 10, 64)            12864     \n",
      "                                                                 \n",
      " gru_2 (GRU)                 (None, 64)                24960     \n",
      "                                                                 \n",
      " dense_16 (Dense)            (None, 32)                2080      \n",
      "                                                                 \n",
      " dense_17 (Dense)            (None, 16)                528       \n",
      "                                                                 \n",
      " dense_18 (Dense)            (None, 1)                 17        \n",
      "                                                                 \n",
      "=================================================================\n",
      "Total params: 40,449\n",
      "Trainable params: 40,449\n",
      "Non-trainable params: 0\n",
      "_________________________________________________________________\n"
     ]
    }
   ],
   "source": [
    "model_5.add(GRU(units=64, activation='relu', input_shape=input_shape, return_sequences=True))\n",
    "model_5.add(GRU(units=64, activation='relu'))\n",
    "model_5.add(Dense(units=32, activation='relu'))\n",
    "model_5.add(Dense(units=16, activation='relu'))\n",
    "model_5.add(Dense(units=1, activation='sigmoid'))\n",
    "model_5.summary()"
   ]
  },
  {
   "cell_type": "code",
   "execution_count": 72,
   "metadata": {
    "id": "Uoy7dsjiCYq0"
   },
   "outputs": [],
   "source": [
    "model_5.compile(optimizer='adam',loss='binary_crossentropy',metrics=['accuracy'])"
   ]
  },
  {
   "cell_type": "code",
   "execution_count": 73,
   "metadata": {
    "id": "u5KranApCdLM"
   },
   "outputs": [
    {
     "name": "stdout",
     "output_type": "stream",
     "text": [
      "Epoch 1/30\n",
      "59/59 [==============================] - 9s 40ms/step - loss: 0.0696 - accuracy: 0.9906 - val_loss: 0.0519 - val_accuracy: 0.9875\n",
      "Epoch 2/30\n",
      "59/59 [==============================] - 2s 28ms/step - loss: 0.0407 - accuracy: 0.9916 - val_loss: 0.0537 - val_accuracy: 0.9925\n",
      "Epoch 3/30\n",
      "59/59 [==============================] - 2s 27ms/step - loss: 0.0440 - accuracy: 0.9909 - val_loss: 0.0401 - val_accuracy: 0.9912\n",
      "Epoch 4/30\n",
      "59/59 [==============================] - 2s 28ms/step - loss: 0.0370 - accuracy: 0.9909 - val_loss: 0.0441 - val_accuracy: 0.9900\n",
      "Epoch 5/30\n",
      "59/59 [==============================] - 2s 27ms/step - loss: 0.0319 - accuracy: 0.9906 - val_loss: 0.0395 - val_accuracy: 0.9912\n",
      "Epoch 6/30\n",
      "59/59 [==============================] - 2s 29ms/step - loss: 0.0303 - accuracy: 0.9900 - val_loss: 0.0444 - val_accuracy: 0.9900\n",
      "Epoch 7/30\n",
      "59/59 [==============================] - 2s 29ms/step - loss: 0.0289 - accuracy: 0.9900 - val_loss: 0.0552 - val_accuracy: 0.9912\n",
      "Epoch 8/30\n",
      "59/59 [==============================] - 2s 27ms/step - loss: 0.0305 - accuracy: 0.9906 - val_loss: 0.0515 - val_accuracy: 0.9800\n",
      "Epoch 9/30\n",
      "59/59 [==============================] - 2s 28ms/step - loss: 0.0306 - accuracy: 0.9903 - val_loss: 0.0482 - val_accuracy: 0.9900\n",
      "Epoch 10/30\n",
      "59/59 [==============================] - 2s 27ms/step - loss: 0.0301 - accuracy: 0.9906 - val_loss: 0.0444 - val_accuracy: 0.9900\n",
      "Epoch 11/30\n",
      "59/59 [==============================] - 2s 28ms/step - loss: 0.0425 - accuracy: 0.9887 - val_loss: 0.0498 - val_accuracy: 0.9900\n",
      "Epoch 12/30\n",
      "59/59 [==============================] - 2s 28ms/step - loss: 0.0354 - accuracy: 0.9906 - val_loss: 0.0409 - val_accuracy: 0.9925\n",
      "Epoch 13/30\n",
      "59/59 [==============================] - 2s 29ms/step - loss: 0.0396 - accuracy: 0.9925 - val_loss: 0.0491 - val_accuracy: 0.9862\n",
      "Epoch 14/30\n",
      "59/59 [==============================] - 2s 27ms/step - loss: 0.0353 - accuracy: 0.9922 - val_loss: 0.0412 - val_accuracy: 0.9900\n",
      "Epoch 15/30\n",
      "59/59 [==============================] - 2s 27ms/step - loss: 0.0304 - accuracy: 0.9916 - val_loss: 0.0487 - val_accuracy: 0.9900\n",
      "Epoch 16/30\n",
      "59/59 [==============================] - 2s 27ms/step - loss: 0.0299 - accuracy: 0.9928 - val_loss: 0.0538 - val_accuracy: 0.9900\n",
      "Epoch 17/30\n",
      "59/59 [==============================] - 2s 27ms/step - loss: 0.0318 - accuracy: 0.9906 - val_loss: 0.0534 - val_accuracy: 0.9900\n",
      "Epoch 18/30\n",
      "59/59 [==============================] - 2s 28ms/step - loss: 0.0298 - accuracy: 0.9909 - val_loss: 0.0445 - val_accuracy: 0.9900\n",
      "Epoch 19/30\n",
      "59/59 [==============================] - 2s 28ms/step - loss: 0.0271 - accuracy: 0.9912 - val_loss: 0.0444 - val_accuracy: 0.9900\n",
      "Epoch 20/30\n",
      "59/59 [==============================] - 2s 27ms/step - loss: 0.0271 - accuracy: 0.9919 - val_loss: 0.0442 - val_accuracy: 0.9900\n",
      "Epoch 21/30\n",
      "59/59 [==============================] - 2s 28ms/step - loss: 0.0271 - accuracy: 0.9906 - val_loss: 0.0456 - val_accuracy: 0.9900\n",
      "Epoch 22/30\n",
      "59/59 [==============================] - 2s 28ms/step - loss: 0.0262 - accuracy: 0.9916 - val_loss: 0.0473 - val_accuracy: 0.9900\n",
      "Epoch 23/30\n",
      "59/59 [==============================] - 2s 28ms/step - loss: 0.0252 - accuracy: 0.9912 - val_loss: 0.0430 - val_accuracy: 0.9900\n",
      "Epoch 24/30\n",
      "59/59 [==============================] - 2s 28ms/step - loss: 0.0243 - accuracy: 0.9916 - val_loss: 0.0432 - val_accuracy: 0.9912\n",
      "Epoch 25/30\n",
      "59/59 [==============================] - 2s 29ms/step - loss: 0.0252 - accuracy: 0.9909 - val_loss: 0.0448 - val_accuracy: 0.9925\n",
      "Epoch 26/30\n",
      "59/59 [==============================] - 2s 27ms/step - loss: 0.0252 - accuracy: 0.9912 - val_loss: 0.0439 - val_accuracy: 0.9912\n",
      "Epoch 27/30\n",
      "59/59 [==============================] - 2s 28ms/step - loss: 0.0264 - accuracy: 0.9919 - val_loss: 0.0467 - val_accuracy: 0.9900\n",
      "Epoch 28/30\n",
      "59/59 [==============================] - 2s 30ms/step - loss: 0.0259 - accuracy: 0.9912 - val_loss: 0.0497 - val_accuracy: 0.9900\n",
      "Epoch 29/30\n",
      "59/59 [==============================] - 2s 29ms/step - loss: 0.0238 - accuracy: 0.9912 - val_loss: 0.0478 - val_accuracy: 0.9912\n",
      "Epoch 30/30\n",
      "59/59 [==============================] - 2s 28ms/step - loss: 0.0257 - accuracy: 0.9912 - val_loss: 0.0580 - val_accuracy: 0.9900\n"
     ]
    }
   ],
   "source": [
    "training_5=model_5.fit(x_train,y_train,epochs=30,batch_size=55,validation_split=0.2)"
   ]
  },
  {
   "cell_type": "code",
   "execution_count": 74,
   "metadata": {
    "id": "1C3s7faRCjLx"
   },
   "outputs": [
    {
     "name": "stdout",
     "output_type": "stream",
     "text": [
      "Loss value in the training phase during Dual GRU is 0.025737127289175987\n",
      "Accuacy value during the training phase during Dual GRU is 0.9912472367286682\n",
      "Val_loss in the training phase during Dual GRU is 0.0579640232026577\n",
      "Val_acc value during the training phase during Dual GRU is 0.9900000095367432\n"
     ]
    }
   ],
   "source": [
    "# Get the training loss and accuracy from the history object\n",
    "train_loss_dual_gru = training_5.history['loss'][-1]  # Last epoch's training loss\n",
    "train_accuracy_dual_gru = training_5.history['accuracy'][-1]  # Last epoch's training accuracy\n",
    "print('Loss value in the training phase during Dual GRU is',train_loss_dual_gru)\n",
    "print('Accuacy value during the training phase during Dual GRU is',train_accuracy_dual_gru)\n",
    "# Get the validation loss and accuracy from the history object\n",
    "val_loss_dual_gru = training_5.history['val_loss'][-1]  # Last epoch's validation loss\n",
    "val_accuracy_dual_gru = training_5.history['val_accuracy'][-1]  # Last epoch's validation accuracy\n",
    "print('Val_loss in the training phase during Dual GRU is',val_loss_dual_gru)\n",
    "print('Val_acc value during the training phase during Dual GRU is',val_accuracy_dual_gru)"
   ]
  },
  {
   "cell_type": "code",
   "execution_count": 75,
   "metadata": {
    "id": "y4FPudzTCsf4"
   },
   "outputs": [
    {
     "name": "stdout",
     "output_type": "stream",
     "text": [
      "49/49 [==============================] - 1s 9ms/step - loss: 0.0458 - accuracy: 0.9895\n"
     ]
    }
   ],
   "source": [
    "test_loss_dual_gru, test_accuracy_dual_gru=model_5.evaluate(x_test,y_test,batch_size=55)"
   ]
  },
  {
   "cell_type": "code",
   "execution_count": 76,
   "metadata": {
    "id": "bG2g-9Y0CxOW"
   },
   "outputs": [
    {
     "name": "stdout",
     "output_type": "stream",
     "text": [
      "Test Loss in Dual_GRU: 0.045828208327293396\n",
      "Test Accuracy in Dual_GRU: 0.9895012974739075\n"
     ]
    }
   ],
   "source": [
    "print(\"Test Loss in Dual_GRU:\",test_loss_dual_gru)\n",
    "print(\"Test Accuracy in Dual_GRU:\",test_accuracy_dual_gru)"
   ]
  },
  {
   "cell_type": "code",
   "execution_count": 77,
   "metadata": {
    "id": "mBdgMkXwC1xc"
   },
   "outputs": [],
   "source": [
    "model_6=Sequential()"
   ]
  },
  {
   "cell_type": "code",
   "execution_count": 78,
   "metadata": {
    "id": "UQ9DjhoiC5J1"
   },
   "outputs": [
    {
     "name": "stdout",
     "output_type": "stream",
     "text": [
      "Model: \"sequential_6\"\n",
      "_________________________________________________________________\n",
      " Layer (type)                Output Shape              Param #   \n",
      "=================================================================\n",
      " lstm_3 (LSTM)               (None, 10, 64)            16896     \n",
      "                                                                 \n",
      " gru_3 (GRU)                 (None, 64)                24960     \n",
      "                                                                 \n",
      " dense_19 (Dense)            (None, 32)                2080      \n",
      "                                                                 \n",
      " dense_20 (Dense)            (None, 16)                528       \n",
      "                                                                 \n",
      " dense_21 (Dense)            (None, 1)                 17        \n",
      "                                                                 \n",
      "=================================================================\n",
      "Total params: 44,481\n",
      "Trainable params: 44,481\n",
      "Non-trainable params: 0\n",
      "_________________________________________________________________\n"
     ]
    }
   ],
   "source": [
    "model_6.add(LSTM(units=64, activation='relu', input_shape=input_shape, return_sequences=True))\n",
    "model_6.add(GRU(units=64, activation='relu'))\n",
    "model_6.add(Dense(units=32, activation='relu'))\n",
    "model_6.add(Dense(units=16, activation='relu'))\n",
    "model_6.add(Dense(units=1, activation='sigmoid'))\n",
    "model_6.summary()"
   ]
  },
  {
   "cell_type": "code",
   "execution_count": 79,
   "metadata": {
    "id": "n_qvZxzQC9hY"
   },
   "outputs": [],
   "source": [
    "model_6.compile(optimizer='adam',loss='binary_crossentropy',metrics=['accuracy'])"
   ]
  },
  {
   "cell_type": "code",
   "execution_count": 80,
   "metadata": {
    "id": "B99S_IaSDC7y"
   },
   "outputs": [
    {
     "name": "stdout",
     "output_type": "stream",
     "text": [
      "Epoch 1/30\n",
      "59/59 [==============================] - 8s 42ms/step - loss: 0.0621 - accuracy: 0.9916 - val_loss: 0.0409 - val_accuracy: 0.9937\n",
      "Epoch 2/30\n",
      "59/59 [==============================] - 2s 29ms/step - loss: 0.0332 - accuracy: 0.9891 - val_loss: 0.0394 - val_accuracy: 0.9900\n",
      "Epoch 3/30\n",
      "59/59 [==============================] - 2s 28ms/step - loss: 0.0309 - accuracy: 0.9916 - val_loss: 0.0530 - val_accuracy: 0.9900\n",
      "Epoch 4/30\n",
      "59/59 [==============================] - 2s 30ms/step - loss: 0.0325 - accuracy: 0.9916 - val_loss: 0.0463 - val_accuracy: 0.9900\n",
      "Epoch 5/30\n",
      "59/59 [==============================] - 2s 30ms/step - loss: 0.0301 - accuracy: 0.9916 - val_loss: 0.0655 - val_accuracy: 0.9900\n",
      "Epoch 6/30\n",
      "59/59 [==============================] - 2s 30ms/step - loss: 0.0308 - accuracy: 0.9916 - val_loss: 0.0422 - val_accuracy: 0.9900\n",
      "Epoch 7/30\n",
      "59/59 [==============================] - 2s 31ms/step - loss: 0.0391 - accuracy: 0.9909 - val_loss: 0.0413 - val_accuracy: 0.9900\n",
      "Epoch 8/30\n",
      "59/59 [==============================] - 2s 29ms/step - loss: 0.0361 - accuracy: 0.9916 - val_loss: 0.0447 - val_accuracy: 0.9900\n",
      "Epoch 9/30\n",
      "59/59 [==============================] - 2s 31ms/step - loss: 0.0297 - accuracy: 0.9903 - val_loss: 0.0391 - val_accuracy: 0.9900\n",
      "Epoch 10/30\n",
      "59/59 [==============================] - 2s 30ms/step - loss: 0.0270 - accuracy: 0.9909 - val_loss: 0.0379 - val_accuracy: 0.9900\n",
      "Epoch 11/30\n",
      "59/59 [==============================] - 2s 29ms/step - loss: 0.0257 - accuracy: 0.9916 - val_loss: 0.0501 - val_accuracy: 0.9900\n",
      "Epoch 12/30\n",
      "59/59 [==============================] - 2s 30ms/step - loss: 0.0240 - accuracy: 0.9903 - val_loss: 0.0384 - val_accuracy: 0.9937\n",
      "Epoch 13/30\n",
      "59/59 [==============================] - 2s 30ms/step - loss: 0.0233 - accuracy: 0.9916 - val_loss: 0.0386 - val_accuracy: 0.9912\n",
      "Epoch 14/30\n",
      "59/59 [==============================] - 2s 30ms/step - loss: 0.0214 - accuracy: 0.9916 - val_loss: 0.0384 - val_accuracy: 0.9900\n",
      "Epoch 15/30\n",
      "59/59 [==============================] - 2s 29ms/step - loss: 0.0212 - accuracy: 0.9912 - val_loss: 0.0429 - val_accuracy: 0.9912\n",
      "Epoch 16/30\n",
      "59/59 [==============================] - 2s 29ms/step - loss: 0.0195 - accuracy: 0.9912 - val_loss: 0.0413 - val_accuracy: 0.9912\n",
      "Epoch 17/30\n",
      "59/59 [==============================] - 2s 29ms/step - loss: 0.0203 - accuracy: 0.9928 - val_loss: 0.0380 - val_accuracy: 0.9925\n",
      "Epoch 18/30\n",
      "59/59 [==============================] - 2s 30ms/step - loss: 0.0229 - accuracy: 0.9916 - val_loss: 0.0596 - val_accuracy: 0.9937\n",
      "Epoch 19/30\n",
      "59/59 [==============================] - 2s 29ms/step - loss: 0.0200 - accuracy: 0.9919 - val_loss: 0.0391 - val_accuracy: 0.9925\n",
      "Epoch 20/30\n",
      "59/59 [==============================] - 2s 29ms/step - loss: 0.0195 - accuracy: 0.9922 - val_loss: 0.0315 - val_accuracy: 0.9925\n",
      "Epoch 21/30\n",
      "59/59 [==============================] - 2s 30ms/step - loss: 0.0262 - accuracy: 0.9894 - val_loss: 0.0405 - val_accuracy: 0.9900\n",
      "Epoch 22/30\n",
      "59/59 [==============================] - 2s 30ms/step - loss: 0.0245 - accuracy: 0.9903 - val_loss: 0.0386 - val_accuracy: 0.9900\n",
      "Epoch 23/30\n",
      "59/59 [==============================] - 2s 30ms/step - loss: 0.0194 - accuracy: 0.9912 - val_loss: 0.0389 - val_accuracy: 0.9900\n",
      "Epoch 24/30\n",
      "59/59 [==============================] - 2s 29ms/step - loss: 0.0165 - accuracy: 0.9928 - val_loss: 0.0633 - val_accuracy: 0.9900\n",
      "Epoch 25/30\n",
      "59/59 [==============================] - 2s 31ms/step - loss: 0.0192 - accuracy: 0.9925 - val_loss: 0.0345 - val_accuracy: 0.9925\n",
      "Epoch 26/30\n",
      "59/59 [==============================] - 2s 35ms/step - loss: 0.0231 - accuracy: 0.9919 - val_loss: 0.0497 - val_accuracy: 0.9925\n",
      "Epoch 27/30\n",
      "59/59 [==============================] - 2s 41ms/step - loss: 0.0224 - accuracy: 0.9931 - val_loss: 0.0434 - val_accuracy: 0.9900\n",
      "Epoch 28/30\n",
      "59/59 [==============================] - 2s 33ms/step - loss: 0.0167 - accuracy: 0.9922 - val_loss: 0.0452 - val_accuracy: 0.9900\n",
      "Epoch 29/30\n",
      "59/59 [==============================] - 2s 33ms/step - loss: 0.0153 - accuracy: 0.9925 - val_loss: 0.0598 - val_accuracy: 0.9925\n",
      "Epoch 30/30\n",
      "59/59 [==============================] - 2s 33ms/step - loss: 0.0144 - accuracy: 0.9950 - val_loss: 0.0374 - val_accuracy: 0.9925\n"
     ]
    }
   ],
   "source": [
    "training_6=model_6.fit(x_train,y_train,epochs=30,batch_size=55,validation_split=0.2)"
   ]
  },
  {
   "cell_type": "code",
   "execution_count": 81,
   "metadata": {
    "id": "m_UYMY5mDMcP"
   },
   "outputs": [
    {
     "name": "stdout",
     "output_type": "stream",
     "text": [
      "Loss value in the training phase during LSTM GRU is 0.014399925246834755\n",
      "Accuacy value during the training phase during LSTM GRU is 0.9949984550476074\n",
      "Val_loss in the training phase during LSTM GRU is 0.037441715598106384\n",
      "Val_acc value during the training phase during LSTM GRU is 0.9925000071525574\n"
     ]
    }
   ],
   "source": [
    "# Get the training loss and accuracy from the history object\n",
    "train_loss_lstm_gru = training_6.history['loss'][-1]  # Last epoch's training loss\n",
    "train_accuracy_lstm_gru = training_6.history['accuracy'][-1]  # Last epoch's training accuracy\n",
    "print('Loss value in the training phase during LSTM GRU is',train_loss_lstm_gru)\n",
    "print('Accuacy value during the training phase during LSTM GRU is',train_accuracy_lstm_gru)\n",
    "# Get the validation loss and accuracy from the history object\n",
    "val_loss_lstm_gru = training_6.history['val_loss'][-1]  # Last epoch's validation loss\n",
    "val_accuracy_lstm_gru = training_6.history['val_accuracy'][-1]  # Last epoch's validation accuracy\n",
    "print('Val_loss in the training phase during LSTM GRU is',val_loss_lstm_gru)\n",
    "print('Val_acc value during the training phase during LSTM GRU is',val_accuracy_lstm_gru)"
   ]
  },
  {
   "cell_type": "code",
   "execution_count": 82,
   "metadata": {
    "id": "_lnYV50uDRg5"
   },
   "outputs": [
    {
     "name": "stdout",
     "output_type": "stream",
     "text": [
      "49/49 [==============================] - 1s 13ms/step - loss: 0.0386 - accuracy: 0.9899\n"
     ]
    }
   ],
   "source": [
    "test_loss_lstm_gru, test_accuracy_lstm_gru=model_6.evaluate(x_test,y_test,batch_size=55)"
   ]
  },
  {
   "cell_type": "code",
   "execution_count": 83,
   "metadata": {
    "id": "WS1tH8nkDXUy"
   },
   "outputs": [
    {
     "name": "stdout",
     "output_type": "stream",
     "text": [
      "Test Loss in LSTM_GRU: 0.03857942298054695\n",
      "Test Accuracy in LSTM_GRU: 0.9898762702941895\n"
     ]
    }
   ],
   "source": [
    "print(\"Test Loss in LSTM_GRU:\",test_loss_lstm_gru)\n",
    "print(\"Test Accuracy in LSTM_GRU:\",test_accuracy_lstm_gru)"
   ]
  },
  {
   "cell_type": "code",
   "execution_count": 84,
   "metadata": {
    "id": "lKwyXnuYDbb8"
   },
   "outputs": [],
   "source": [
    "model_7=Sequential()"
   ]
  },
  {
   "cell_type": "code",
   "execution_count": 85,
   "metadata": {
    "id": "HwUvrfiGDgYK"
   },
   "outputs": [
    {
     "name": "stdout",
     "output_type": "stream",
     "text": [
      "Model: \"sequential_7\"\n",
      "_________________________________________________________________\n",
      " Layer (type)                Output Shape              Param #   \n",
      "=================================================================\n",
      " bidirectional (Bidirectiona  (None, 10, 128)          33792     \n",
      " l)                                                              \n",
      "                                                                 \n",
      " bidirectional_1 (Bidirectio  (None, 128)              98816     \n",
      " nal)                                                            \n",
      "                                                                 \n",
      " dense_22 (Dense)            (None, 32)                4128      \n",
      "                                                                 \n",
      " dense_23 (Dense)            (None, 16)                528       \n",
      "                                                                 \n",
      " dense_24 (Dense)            (None, 1)                 17        \n",
      "                                                                 \n",
      "=================================================================\n",
      "Total params: 137,281\n",
      "Trainable params: 137,281\n",
      "Non-trainable params: 0\n",
      "_________________________________________________________________\n"
     ]
    }
   ],
   "source": [
    "model_7.add(Bidirectional(LSTM(units=64, activation='relu', return_sequences=True), input_shape=input_shape))\n",
    "model_7.add(Bidirectional(LSTM(units=64, activation='relu')))\n",
    "model_7.add(Dense(units=32, activation='relu'))\n",
    "model_7.add(Dense(units=16, activation='relu'))\n",
    "model_7.add(Dense(units=1, activation='sigmoid'))\n",
    "model_7.summary()"
   ]
  },
  {
   "cell_type": "code",
   "execution_count": 86,
   "metadata": {
    "id": "p8dH7Qq4DmwR"
   },
   "outputs": [],
   "source": [
    "model_7.compile(optimizer='adam',loss='binary_crossentropy',metrics=['accuracy'])"
   ]
  },
  {
   "cell_type": "code",
   "execution_count": 87,
   "metadata": {
    "id": "6az7DflKDq8Z"
   },
   "outputs": [
    {
     "name": "stdout",
     "output_type": "stream",
     "text": [
      "Epoch 1/30\n",
      "59/59 [==============================] - 15s 76ms/step - loss: 0.4779 - accuracy: 0.9222 - val_loss: 0.0866 - val_accuracy: 0.9900\n",
      "Epoch 2/30\n",
      "59/59 [==============================] - 3s 52ms/step - loss: 0.0474 - accuracy: 0.9900 - val_loss: 0.0674 - val_accuracy: 0.9875\n",
      "Epoch 3/30\n",
      "59/59 [==============================] - 4s 65ms/step - loss: 0.0543 - accuracy: 0.9894 - val_loss: 0.0673 - val_accuracy: 0.9850\n",
      "Epoch 4/30\n",
      "59/59 [==============================] - 3s 54ms/step - loss: 0.0496 - accuracy: 0.9881 - val_loss: 0.0791 - val_accuracy: 0.9787\n",
      "Epoch 5/30\n",
      "59/59 [==============================] - 4s 65ms/step - loss: 0.0611 - accuracy: 0.9881 - val_loss: 0.0653 - val_accuracy: 0.9887\n",
      "Epoch 6/30\n",
      "59/59 [==============================] - 3s 52ms/step - loss: 0.0442 - accuracy: 0.9912 - val_loss: 0.0426 - val_accuracy: 0.9912\n",
      "Epoch 7/30\n",
      "59/59 [==============================] - 3s 52ms/step - loss: 0.0409 - accuracy: 0.9912 - val_loss: 0.0517 - val_accuracy: 0.9887\n",
      "Epoch 8/30\n",
      "59/59 [==============================] - 4s 64ms/step - loss: 0.0353 - accuracy: 0.9919 - val_loss: 0.0633 - val_accuracy: 0.9900\n",
      "Epoch 9/30\n",
      "59/59 [==============================] - 4s 62ms/step - loss: 0.0350 - accuracy: 0.9925 - val_loss: 0.0476 - val_accuracy: 0.9937\n",
      "Epoch 10/30\n",
      "59/59 [==============================] - 4s 67ms/step - loss: 0.0404 - accuracy: 0.9912 - val_loss: 0.0469 - val_accuracy: 0.9900\n",
      "Epoch 11/30\n",
      "59/59 [==============================] - 4s 66ms/step - loss: 0.0359 - accuracy: 0.9916 - val_loss: 0.0485 - val_accuracy: 0.9900\n",
      "Epoch 12/30\n",
      "59/59 [==============================] - 4s 60ms/step - loss: 0.0369 - accuracy: 0.9919 - val_loss: 0.0393 - val_accuracy: 0.9900\n",
      "Epoch 13/30\n",
      "59/59 [==============================] - 4s 62ms/step - loss: 0.0324 - accuracy: 0.9909 - val_loss: 0.0449 - val_accuracy: 0.9900\n",
      "Epoch 14/30\n",
      "59/59 [==============================] - 3s 58ms/step - loss: 0.0253 - accuracy: 0.9916 - val_loss: 0.0652 - val_accuracy: 0.9912\n",
      "Epoch 15/30\n",
      "59/59 [==============================] - 4s 59ms/step - loss: 0.0343 - accuracy: 0.9916 - val_loss: 0.0401 - val_accuracy: 0.9900\n",
      "Epoch 16/30\n",
      "59/59 [==============================] - 3s 51ms/step - loss: 0.0228 - accuracy: 0.9916 - val_loss: 0.0476 - val_accuracy: 0.9900\n",
      "Epoch 17/30\n",
      "59/59 [==============================] - 4s 64ms/step - loss: 0.0252 - accuracy: 0.9916 - val_loss: 0.0486 - val_accuracy: 0.9900\n",
      "Epoch 18/30\n",
      "59/59 [==============================] - 4s 62ms/step - loss: 0.0223 - accuracy: 0.9912 - val_loss: 0.0674 - val_accuracy: 0.9900\n",
      "Epoch 19/30\n",
      "59/59 [==============================] - 4s 60ms/step - loss: 0.0233 - accuracy: 0.9916 - val_loss: 0.0504 - val_accuracy: 0.9900\n",
      "Epoch 20/30\n",
      "59/59 [==============================] - 4s 60ms/step - loss: 0.0198 - accuracy: 0.9916 - val_loss: 0.0636 - val_accuracy: 0.9900\n",
      "Epoch 21/30\n",
      "59/59 [==============================] - 3s 57ms/step - loss: 0.0215 - accuracy: 0.9919 - val_loss: 0.0542 - val_accuracy: 0.9912\n",
      "Epoch 22/30\n",
      "59/59 [==============================] - 4s 65ms/step - loss: 0.0244 - accuracy: 0.9922 - val_loss: 0.0630 - val_accuracy: 0.9900\n",
      "Epoch 23/30\n",
      "59/59 [==============================] - 3s 54ms/step - loss: 0.0202 - accuracy: 0.9916 - val_loss: 0.0531 - val_accuracy: 0.9912\n",
      "Epoch 24/30\n",
      "59/59 [==============================] - 4s 64ms/step - loss: 0.0188 - accuracy: 0.9916 - val_loss: 0.0938 - val_accuracy: 0.9912\n",
      "Epoch 25/30\n",
      "59/59 [==============================] - 4s 63ms/step - loss: 0.0246 - accuracy: 0.9916 - val_loss: 0.0522 - val_accuracy: 0.9900\n",
      "Epoch 26/30\n",
      "59/59 [==============================] - 3s 56ms/step - loss: 0.0200 - accuracy: 0.9922 - val_loss: 0.0648 - val_accuracy: 0.9900\n",
      "Epoch 27/30\n",
      "59/59 [==============================] - 4s 64ms/step - loss: 0.0212 - accuracy: 0.9922 - val_loss: 0.0813 - val_accuracy: 0.9925\n",
      "Epoch 28/30\n",
      "59/59 [==============================] - 4s 70ms/step - loss: 0.0193 - accuracy: 0.9931 - val_loss: 0.0520 - val_accuracy: 0.9900\n",
      "Epoch 29/30\n",
      "59/59 [==============================] - 3s 53ms/step - loss: 0.0300 - accuracy: 0.9919 - val_loss: 0.0434 - val_accuracy: 0.9912\n",
      "Epoch 30/30\n",
      "59/59 [==============================] - 4s 65ms/step - loss: 0.0346 - accuracy: 0.9903 - val_loss: 0.0483 - val_accuracy: 0.9912\n"
     ]
    }
   ],
   "source": [
    "training_7=model_7.fit(x_train,y_train,epochs=30,batch_size=55,validation_split=0.2)"
   ]
  },
  {
   "cell_type": "code",
   "execution_count": 88,
   "metadata": {
    "id": "FApWDfxEEDX-"
   },
   "outputs": [
    {
     "name": "stdout",
     "output_type": "stream",
     "text": [
      "Loss value in the training phase during Bi-LSTM is 0.03460703790187836\n",
      "Accuacy value during the training phase during Bi-LSTM is 0.990309476852417\n",
      "Val_loss in the training phase during Bi-LSTM is 0.04834764823317528\n",
      "Val_acc value during the training phase during Bi-LSTM is 0.9912499785423279\n"
     ]
    }
   ],
   "source": [
    "# Get the training loss and accuracy from the history object\n",
    "train_loss_bi_lstm = training_7.history['loss'][-1]  # Last epoch's training loss\n",
    "train_accuracy_bi_lstm = training_7.history['accuracy'][-1]  # Last epoch's training accuracy\n",
    "print('Loss value in the training phase during Bi-LSTM is',train_loss_bi_lstm)\n",
    "print('Accuacy value during the training phase during Bi-LSTM is',train_accuracy_bi_lstm)\n",
    "# Get the validation loss and accuracy from the history object\n",
    "val_loss_bi_lstm = training_7.history['val_loss'][-1]  # Last epoch's validation loss\n",
    "val_accuracy_bi_lstm = training_7.history['val_accuracy'][-1]  # Last epoch's validation accuracy\n",
    "print('Val_loss in the training phase during Bi-LSTM is',val_loss_bi_lstm)\n",
    "print('Val_acc value during the training phase during Bi-LSTM is',val_accuracy_bi_lstm)"
   ]
  },
  {
   "cell_type": "code",
   "execution_count": 89,
   "metadata": {
    "id": "Wluu3Y3YEHkG"
   },
   "outputs": [
    {
     "name": "stdout",
     "output_type": "stream",
     "text": [
      "49/49 [==============================] - 1s 19ms/step - loss: 0.0589 - accuracy: 0.9903\n"
     ]
    }
   ],
   "source": [
    "test_loss_bi_lstm, test_accuracy_bi_lstm=model_7.evaluate(x_test,y_test,batch_size=55)"
   ]
  },
  {
   "cell_type": "code",
   "execution_count": 90,
   "metadata": {
    "id": "hfX8_Kh7ELS1"
   },
   "outputs": [
    {
     "name": "stdout",
     "output_type": "stream",
     "text": [
      "Test Loss in Bi-LSTM: 0.05885739624500275\n",
      "Test Accuracy in Bi-LSTM: 0.9902512431144714\n"
     ]
    }
   ],
   "source": [
    "print(\"Test Loss in Bi-LSTM:\",test_loss_bi_lstm)\n",
    "print(\"Test Accuracy in Bi-LSTM:\",test_accuracy_bi_lstm)"
   ]
  },
  {
   "cell_type": "code",
   "execution_count": 91,
   "metadata": {
    "id": "lHzc7SwoEQNe"
   },
   "outputs": [],
   "source": [
    "model_8=Sequential()"
   ]
  },
  {
   "cell_type": "code",
   "execution_count": 92,
   "metadata": {
    "id": "fh5JR1mLE-XT"
   },
   "outputs": [
    {
     "name": "stdout",
     "output_type": "stream",
     "text": [
      "Model: \"sequential_8\"\n",
      "_________________________________________________________________\n",
      " Layer (type)                Output Shape              Param #   \n",
      "=================================================================\n",
      " bidirectional_2 (Bidirectio  (None, 10, 128)          25728     \n",
      " nal)                                                            \n",
      "                                                                 \n",
      " bidirectional_3 (Bidirectio  (None, 128)              74496     \n",
      " nal)                                                            \n",
      "                                                                 \n",
      " dense_25 (Dense)            (None, 32)                4128      \n",
      "                                                                 \n",
      " dense_26 (Dense)            (None, 16)                528       \n",
      "                                                                 \n",
      " dense_27 (Dense)            (None, 1)                 17        \n",
      "                                                                 \n",
      "=================================================================\n",
      "Total params: 104,897\n",
      "Trainable params: 104,897\n",
      "Non-trainable params: 0\n",
      "_________________________________________________________________\n"
     ]
    }
   ],
   "source": [
    "model_8.add(Bidirectional(GRU(units=64, activation='relu', return_sequences=True), input_shape=input_shape))\n",
    "model_8.add(Bidirectional(GRU(units=64, activation='relu')))\n",
    "model_8.add(Dense(units=32, activation='relu'))\n",
    "model_8.add(Dense(units=16, activation='relu'))\n",
    "model_8.add(Dense(units=1, activation='sigmoid'))\n",
    "model_8.summary()"
   ]
  },
  {
   "cell_type": "code",
   "execution_count": 93,
   "metadata": {
    "id": "kdcBmph-FdBO"
   },
   "outputs": [],
   "source": [
    "model_8.compile(optimizer='adam',loss='binary_crossentropy',metrics=['accuracy'])"
   ]
  },
  {
   "cell_type": "code",
   "execution_count": 94,
   "metadata": {
    "id": "9-CfQ9Q4Fesy"
   },
   "outputs": [
    {
     "name": "stdout",
     "output_type": "stream",
     "text": [
      "Epoch 1/30\n",
      "59/59 [==============================] - 18s 75ms/step - loss: 0.0921 - accuracy: 0.9722 - val_loss: 0.0551 - val_accuracy: 0.9900\n",
      "Epoch 2/30\n",
      "59/59 [==============================] - 4s 68ms/step - loss: 0.0453 - accuracy: 0.9919 - val_loss: 0.0606 - val_accuracy: 0.9837\n",
      "Epoch 3/30\n",
      "59/59 [==============================] - 3s 50ms/step - loss: 0.0442 - accuracy: 0.9912 - val_loss: 0.0487 - val_accuracy: 0.9875\n",
      "Epoch 4/30\n",
      "59/59 [==============================] - 3s 48ms/step - loss: 0.0340 - accuracy: 0.9906 - val_loss: 0.0587 - val_accuracy: 0.9912\n",
      "Epoch 5/30\n",
      "59/59 [==============================] - 3s 53ms/step - loss: 0.0366 - accuracy: 0.9919 - val_loss: 0.0608 - val_accuracy: 0.9837\n",
      "Epoch 6/30\n",
      "59/59 [==============================] - 3s 56ms/step - loss: 0.0393 - accuracy: 0.9900 - val_loss: 0.0466 - val_accuracy: 0.9900\n",
      "Epoch 7/30\n",
      "59/59 [==============================] - 3s 52ms/step - loss: 0.0336 - accuracy: 0.9912 - val_loss: 0.0644 - val_accuracy: 0.9825\n",
      "Epoch 8/30\n",
      "59/59 [==============================] - 4s 73ms/step - loss: 0.0413 - accuracy: 0.9925 - val_loss: 0.0655 - val_accuracy: 0.9900\n",
      "Epoch 9/30\n",
      "59/59 [==============================] - 5s 78ms/step - loss: 0.0394 - accuracy: 0.9916 - val_loss: 0.0411 - val_accuracy: 0.9900\n",
      "Epoch 10/30\n",
      "59/59 [==============================] - 5s 78ms/step - loss: 0.0316 - accuracy: 0.9922 - val_loss: 0.0590 - val_accuracy: 0.9925\n",
      "Epoch 11/30\n",
      "59/59 [==============================] - 4s 65ms/step - loss: 0.0340 - accuracy: 0.9922 - val_loss: 0.0536 - val_accuracy: 0.9925\n",
      "Epoch 12/30\n",
      "59/59 [==============================] - 4s 71ms/step - loss: 0.0331 - accuracy: 0.9903 - val_loss: 0.0455 - val_accuracy: 0.9925\n",
      "Epoch 13/30\n",
      "59/59 [==============================] - 5s 78ms/step - loss: 0.0341 - accuracy: 0.9906 - val_loss: 0.0553 - val_accuracy: 0.9912\n",
      "Epoch 14/30\n",
      "59/59 [==============================] - 4s 67ms/step - loss: 0.0313 - accuracy: 0.9903 - val_loss: 0.0587 - val_accuracy: 0.9900\n",
      "Epoch 15/30\n",
      "59/59 [==============================] - 5s 77ms/step - loss: 0.0320 - accuracy: 0.9900 - val_loss: 0.0743 - val_accuracy: 0.9900\n",
      "Epoch 16/30\n",
      "59/59 [==============================] - 4s 71ms/step - loss: 0.0288 - accuracy: 0.9909 - val_loss: 0.0640 - val_accuracy: 0.9925\n",
      "Epoch 17/30\n",
      "59/59 [==============================] - 4s 68ms/step - loss: 0.0241 - accuracy: 0.9919 - val_loss: 0.0527 - val_accuracy: 0.9925\n",
      "Epoch 18/30\n",
      "59/59 [==============================] - 4s 62ms/step - loss: 0.0318 - accuracy: 0.9934 - val_loss: 0.0461 - val_accuracy: 0.9900\n",
      "Epoch 19/30\n",
      "59/59 [==============================] - 4s 67ms/step - loss: 0.0327 - accuracy: 0.9909 - val_loss: 0.0550 - val_accuracy: 0.9900\n",
      "Epoch 20/30\n",
      "59/59 [==============================] - 4s 70ms/step - loss: 0.0273 - accuracy: 0.9925 - val_loss: 0.0386 - val_accuracy: 0.9875\n",
      "Epoch 21/30\n",
      "59/59 [==============================] - 3s 55ms/step - loss: 0.0310 - accuracy: 0.9900 - val_loss: 0.0478 - val_accuracy: 0.9900\n",
      "Epoch 22/30\n",
      "59/59 [==============================] - 3s 48ms/step - loss: 0.0249 - accuracy: 0.9922 - val_loss: 0.0494 - val_accuracy: 0.9937\n",
      "Epoch 23/30\n",
      "59/59 [==============================] - 4s 69ms/step - loss: 0.0312 - accuracy: 0.9897 - val_loss: 0.0458 - val_accuracy: 0.9900\n",
      "Epoch 24/30\n",
      "59/59 [==============================] - 4s 63ms/step - loss: 0.0241 - accuracy: 0.9912 - val_loss: 0.0429 - val_accuracy: 0.9887\n",
      "Epoch 25/30\n",
      "59/59 [==============================] - 4s 64ms/step - loss: 0.0207 - accuracy: 0.9919 - val_loss: 0.0482 - val_accuracy: 0.9900\n",
      "Epoch 26/30\n",
      "59/59 [==============================] - 4s 65ms/step - loss: 0.0238 - accuracy: 0.9931 - val_loss: 0.0930 - val_accuracy: 0.9900\n",
      "Epoch 27/30\n",
      "59/59 [==============================] - 4s 59ms/step - loss: 0.0304 - accuracy: 0.9912 - val_loss: 0.0363 - val_accuracy: 0.9887\n",
      "Epoch 28/30\n",
      "59/59 [==============================] - 4s 63ms/step - loss: 0.0250 - accuracy: 0.9928 - val_loss: 0.0465 - val_accuracy: 0.9900\n",
      "Epoch 29/30\n",
      "59/59 [==============================] - 3s 59ms/step - loss: 0.0273 - accuracy: 0.9903 - val_loss: 0.0395 - val_accuracy: 0.9900\n",
      "Epoch 30/30\n",
      "59/59 [==============================] - 4s 59ms/step - loss: 0.0264 - accuracy: 0.9906 - val_loss: 0.0482 - val_accuracy: 0.9887\n"
     ]
    }
   ],
   "source": [
    "training_8=model_8.fit(x_train,y_train,epochs=30,batch_size=55,validation_split=0.2)"
   ]
  },
  {
   "cell_type": "code",
   "execution_count": 95,
   "metadata": {
    "id": "mjFrr-yZFhqI"
   },
   "outputs": [
    {
     "name": "stdout",
     "output_type": "stream",
     "text": [
      "Loss value in the training phase during Bi-GRU is 0.02643693797290325\n",
      "Accuacy value during the training phase during Bi-GRU is 0.9906220436096191\n",
      "Val_loss in the training phase during Bi-GRU is 0.04822896048426628\n",
      "Val_acc value during the training phase during Bi-GRU is 0.9887499809265137\n"
     ]
    }
   ],
   "source": [
    "# Get the training loss and accuracy from the history object\n",
    "train_loss_bi_gru = training_8.history['loss'][-1]  # Last epoch's training loss\n",
    "train_accuracy_bi_gru = training_8.history['accuracy'][-1]  # Last epoch's training accuracy\n",
    "print('Loss value in the training phase during Bi-GRU is',train_loss_bi_gru)\n",
    "print('Accuacy value during the training phase during Bi-GRU is',train_accuracy_bi_gru)\n",
    "# Get the validation loss and accuracy from the history object\n",
    "val_loss_bi_gru = training_8.history['val_loss'][-1]  # Last epoch's validation loss\n",
    "val_accuracy_bi_gru = training_8.history['val_accuracy'][-1]  # Last epoch's validation accuracy\n",
    "print('Val_loss in the training phase during Bi-GRU is',val_loss_bi_gru)\n",
    "print('Val_acc value during the training phase during Bi-GRU is',val_accuracy_bi_gru)"
   ]
  },
  {
   "cell_type": "code",
   "execution_count": 96,
   "metadata": {
    "id": "u618vmcjFzFe"
   },
   "outputs": [
    {
     "name": "stdout",
     "output_type": "stream",
     "text": [
      "49/49 [==============================] - 1s 15ms/step - loss: 0.0443 - accuracy: 0.9884\n"
     ]
    }
   ],
   "source": [
    "test_loss_bi_gru, test_accuracy_bi_gru=model_8.evaluate(x_test,y_test,batch_size=55)"
   ]
  },
  {
   "cell_type": "code",
   "execution_count": 97,
   "metadata": {
    "id": "gMy8yCOuF28J"
   },
   "outputs": [
    {
     "name": "stdout",
     "output_type": "stream",
     "text": [
      "Test Loss in Bi-GRU: 0.04426835477352142\n",
      "Test Accuracy in Bi-GRU: 0.9883764386177063\n"
     ]
    }
   ],
   "source": [
    "print(\"Test Loss in Bi-GRU:\",test_loss_bi_gru)\n",
    "print(\"Test Accuracy in Bi-GRU:\",test_accuracy_bi_gru)"
   ]
  },
  {
   "cell_type": "code",
   "execution_count": 98,
   "metadata": {
    "id": "2ADrKhNHF-r7"
   },
   "outputs": [],
   "source": [
    "model_name=['FFNN','LSTM','GRU','SimpleRNN','DualLSTM','DualGRU','LSTM-GRU','Bi-LSTM','Bi-GRU']\n",
    "model_train_score=[train_accuracy_ann,train_accuracy_lstm,train_accuracy_gru,train_accuracy_rnn,train_accuracy_dual_lstm,train_accuracy_dual_gru,train_accuracy_lstm_gru,train_accuracy_bi_lstm,train_accuracy_bi_gru]\n",
    "model_test_score=[test_accuracy_ann,test_accuracy_lstm,test_accuracy_gru,test_accuracy_rnn,test_accuracy_dual_lstm,test_accuracy_dual_gru,test_accuracy_lstm_gru,test_accuracy_bi_lstm,test_accuracy_bi_gru]"
   ]
  },
  {
   "cell_type": "code",
   "execution_count": 99,
   "metadata": {
    "id": "QGRdSWAgGAGS"
   },
   "outputs": [
    {
     "data": {
      "text/plain": [
       "Text(0.5, 0.98, 'Model Train Value Score')"
      ]
     },
     "execution_count": 99,
     "metadata": {},
     "output_type": "execute_result"
    },
    {
     "data": {
      "image/png": "[encoded data removed]",
      "text/plain": [
       "<Figure size 1200x500 with 1 Axes>"
      ]
     },
     "metadata": {},
     "output_type": "display_data"
    }
   ],
   "source": [
    "plt.figure(figsize=(12,5))\n",
    "sns.barplot(x=model_name,y=model_train_score)\n",
    "plt.suptitle('Model Train Value Score',fontsize=20)"
   ]
  },
  {
   "cell_type": "code",
   "execution_count": 100,
   "metadata": {
    "id": "qB7ls_TJGEkJ"
   },
   "outputs": [
    {
     "data": {
      "text/plain": [
       "Text(0.5, 0.98, 'Model Test Value Score')"
      ]
     },
     "execution_count": 100,
     "metadata": {},
     "output_type": "execute_result"
    },
    {
     "data": {
      "image/png": "[encoded data removed]",
      "text/plain": [
       "<Figure size 1200x500 with 1 Axes>"
      ]
     },
     "metadata": {},
     "output_type": "display_data"
    }
   ],
   "source": [
    "plt.figure(figsize=(12,5))\n",
    "sns.barplot(x=model_name,y=model_test_score)\n",
    "plt.suptitle('Model Test Value Score',fontsize=20)"
   ]
  },
  {
   "cell_type": "markdown",
   "metadata": {
    "id": "rAVP_zq8NV04"
   },
   "source": [
    "# **Conclusion**"
   ]
  },
  {
   "cell_type": "markdown",
   "metadata": {
    "id": "z8tJClRRNaxE"
   },
   "source": [
    "From the above performance of the deep learning model we can clearly see that the Bi-direction LSTM and GRU model's performs well in training and testing phase."
   ]
  }
 ],
 "metadata": {
  "colab": {
   "provenance": []
  },
  "kernelspec": {
   "display_name": "Python 3 (ipykernel)",
   "language": "python",
   "name": "python3"
  },
  "language_info": {
   "codemirror_mode": {
    "name": "ipython",
    "version": 3
   },
   "file_extension": ".py",
   "mimetype": "text/x-python",
   "name": "python",
   "nbconvert_exporter": "python",
   "pygments_lexer": "ipython3",
   "version": "3.10.8"
  }
 },
 "nbformat": 4,
 "nbformat_minor": 1
}
